{
 "cells": [
  {
   "cell_type": "markdown",
   "id": "d2ceda60",
   "metadata": {},
   "source": [
    "#### Name: HARIPRASAD SIVAPATHAM ANAND\n",
    "#### Student Number: 202205341\n",
    "#### Email: x2022gmv@gmail.com\n",
    "#### Accuracy Achieved: 77.775%"
   ]
  },
  {
   "cell_type": "code",
   "execution_count": 111,
   "id": "62a3ea9a",
   "metadata": {},
   "outputs": [],
   "source": [
    "import numpy as np\n",
    "import pandas as pd\n",
    "from copy import deepcopy"
   ]
  },
  {
   "cell_type": "code",
   "execution_count": 112,
   "id": "70e78934",
   "metadata": {},
   "outputs": [],
   "source": [
    "train = pd.read_csv(\"./train.csv\")\n",
    "test = pd.read_csv(\"./test.csv\")"
   ]
  },
  {
   "cell_type": "code",
   "execution_count": 113,
   "id": "7b8410ce",
   "metadata": {},
   "outputs": [],
   "source": [
    "def clean_data(data):\n",
    "    cols = [\"Age\",\"Fare\"]\n",
    "    for col in cols:\n",
    "        data[col].fillna(data[col].mean(),inplace=True)\n",
    "    data.Embarked.fillna(data.Embarked.mode()[0],inplace=True)\n",
    "    return data;"
   ]
  },
  {
   "cell_type": "code",
   "execution_count": 114,
   "id": "1521ddc9",
   "metadata": {},
   "outputs": [],
   "source": [
    "data = train.copy(deep=True)\n",
    "data = clean_data(data)"
   ]
  },
  {
   "cell_type": "code",
   "execution_count": 115,
   "id": "be0fbf5e",
   "metadata": {},
   "outputs": [],
   "source": [
    "# We will use this function to get perform feature engineering on name\n",
    "def spliter(name):\n",
    "    tokens = name.split(\", \")\n",
    "    ppl_kind = tokens[1].split('.')[0]\n",
    "    \n",
    "    return ppl_kind"
   ]
  },
  {
   "cell_type": "code",
   "execution_count": 116,
   "id": "63427c43",
   "metadata": {},
   "outputs": [],
   "source": [
    "# We will replace null with string in cabins for dataset to be fed in machine learning model\n",
    "def cabin_letter(cabin):\n",
    "    if str(cabin) == \"nan\":\n",
    "        return \"NA\"\n",
    "    else:\n",
    "        return str(cabin)[0] # Letters"
   ]
  },
  {
   "cell_type": "code",
   "execution_count": 117,
   "id": "f8a28c37",
   "metadata": {},
   "outputs": [],
   "source": [
    "# Function to convert Age from number to numerical encoded data\n",
    "def age_range(age):\n",
    "    if age <=0:\n",
    "        return 0 \n",
    "    elif age > 20 and age <=40:\n",
    "        return 1\n",
    "    elif age >40 and age<=60:\n",
    "        return 2\n",
    "    else:\n",
    "        return 3 "
   ]
  },
  {
   "cell_type": "code",
   "execution_count": 118,
   "id": "2589cf99",
   "metadata": {},
   "outputs": [],
   "source": [
    "# Check if passenger is alone or with someone \n",
    "def is_alone(id_):\n",
    "    if id_ in ids.values:\n",
    "        return 1\n",
    "    else:\n",
    "        return 0"
   ]
  },
  {
   "cell_type": "code",
   "execution_count": 119,
   "id": "e281c43e",
   "metadata": {},
   "outputs": [],
   "source": [
    "# Handle parch \n",
    "def is_with_nanny(id_):\n",
    "    if id_ in ids.values:\n",
    "        return 1\n",
    "    else:\n",
    "        return 0"
   ]
  },
  {
   "cell_type": "code",
   "execution_count": 123,
   "id": "34a550ba",
   "metadata": {},
   "outputs": [],
   "source": [
    "# Handle Tickets\n",
    "def isnum(ticket):\n",
    "    if ticket.isnumeric():\n",
    "        return 1\n",
    "    else:\n",
    "        return 0"
   ]
  },
  {
   "cell_type": "code",
   "execution_count": 124,
   "id": "dae29374",
   "metadata": {},
   "outputs": [],
   "source": [
    "def transform(data):\n",
    "    global ids\n",
    "    # Passenger loneliness. \n",
    "    ids = data[data.Parch + data.SibSp == 1]['PassengerId']\n",
    "    data['is_alone'] = data.PassengerId.apply(is_alone)\n",
    "    \n",
    "    ids = data[(data.Age <= 15) & (data.Parch == 0)]['PassengerId']\n",
    "    data['is_with_nanny'] = data.PassengerId.apply(is_with_nanny)\n",
    "    \n",
    "    # Handling the age column.\n",
    "    data['Agerange'] = data.Age.apply(age_range)\n",
    "    \n",
    "    # Names titles\n",
    "    data['Ppl_kind'] = data.Name.apply(spliter)\n",
    "    replace = data['Ppl_kind'].unique()\n",
    "    data.Ppl_kind.replace(to_replace=replace, value=list(range(len(replace))), inplace=True)\n",
    "    \n",
    "    # Cabins groups\n",
    "    data['CabinGroup'] = data.Cabin.apply(cabin_letter)\n",
    "    replace = data['CabinGroup'].unique()\n",
    "    data.CabinGroup.replace(to_replace=replace, value=list(range(len(replace))), inplace=True)\n",
    "    \n",
    "    # Tickets types\n",
    "    data['TicketType'] = data.Ticket.apply(isnum)\n",
    "    \n",
    "    # Changing the categorical columns to numeric\n",
    "    data.Embarked = data.Embarked.map({'C':0, 'S':1, 'Q':2})\n",
    "    data['Ppl_kind'] = data['Ppl_kind'].map({0:0, # zero\n",
    "                                             1:1, 2:1, 3:1, # 1st\n",
    "                                             4:2, 5:2, # 2nd\n",
    "                                             6:3, 7:3, 8:3, 9:3, 10:3, 11:3, 12:3, 13:3, 14:3, 15:3, 16:3 # 3rd\n",
    "                                            })\n",
    "    data['Agerange'] = data['Agerange'].map({0:0, 1:1, 2:2, 3:2})\n",
    "    data.Sex = data.Sex.map({'male':0, 'female':1})\n",
    "\n",
    "    # Dropping useless columns \n",
    "    data.drop(['PassengerId', 'Name', 'Cabin', 'Ticket', 'SibSp', 'Parch', 'Age'], axis=1, inplace=True)\n",
    "    \n",
    "    return data;\n"
   ]
  },
  {
   "cell_type": "code",
   "execution_count": 125,
   "id": "77dff8c4",
   "metadata": {},
   "outputs": [],
   "source": [
    "data = transform(data)"
   ]
  },
  {
   "cell_type": "code",
   "execution_count": 127,
   "id": "d9a3f01a",
   "metadata": {},
   "outputs": [],
   "source": [
    "# Cleaning and transforming test data\n",
    "nTest = clean_data(test)\n",
    "nTest = transform(nTest)"
   ]
  },
  {
   "cell_type": "code",
   "execution_count": 128,
   "id": "f08ae38f",
   "metadata": {},
   "outputs": [],
   "source": [
    "# Droping non required columns \n",
    "data.drop(['TicketType', 'is_with_nanny'],axis=1,inplace=True)\n",
    "nTest.drop(['TicketType', 'is_with_nanny'],axis=1,inplace=True)"
   ]
  },
  {
   "cell_type": "code",
   "execution_count": 129,
   "id": "d84f6dd3",
   "metadata": {},
   "outputs": [],
   "source": [
    "# Model selection \n",
    "X = data.drop(\"Survived\",axis=1)\n",
    "y = data.Survived"
   ]
  },
  {
   "cell_type": "code",
   "execution_count": 130,
   "id": "a4722b1f",
   "metadata": {},
   "outputs": [],
   "source": [
    "# Scaling data \n",
    "from sklearn.preprocessing import StandardScaler\n",
    "scaler = StandardScaler().fit(X)\n",
    "X_scaled = scaler.transform(X)\n",
    "nTest_scaled = scaler.transform(nTest)"
   ]
  },
  {
   "cell_type": "code",
   "execution_count": 131,
   "id": "318d65fc",
   "metadata": {},
   "outputs": [],
   "source": [
    "# Splitting into training and testing\n",
    "from sklearn.model_selection import train_test_split\n",
    "\n",
    "X_train, X_test, y_train, y_test = train_test_split(X_scaled, y, test_size=0.2)"
   ]
  },
  {
   "cell_type": "code",
   "execution_count": 136,
   "id": "10ef9d31",
   "metadata": {},
   "outputs": [],
   "source": [
    "# Models to be used\n",
    "from sklearn.linear_model import LogisticRegression\n",
    "from sklearn.naive_bayes import GaussianNB\n",
    "from sklearn.tree import DecisionTreeClassifier\n",
    "from sklearn.neighbors import KNeighborsClassifier\n",
    "from sklearn.ensemble import RandomForestClassifier\n",
    "from sklearn.svm import SVC\n",
    "\n",
    "# metrics\n",
    "from sklearn.model_selection import GridSearchCV\n",
    "from sklearn.metrics import accuracy_score\n",
    "from sklearn.model_selection import cross_val_score"
   ]
  },
  {
   "cell_type": "code",
   "execution_count": 137,
   "id": "77cb55f1",
   "metadata": {},
   "outputs": [
    {
     "name": "stderr",
     "output_type": "stream",
     "text": [
      "/opt/anaconda3/lib/python3.9/site-packages/sklearn/neighbors/_classification.py:237: FutureWarning: Unlike other reduction functions (e.g. `skew`, `kurtosis`), the default behavior of `mode` typically preserves the axis it acts along. In SciPy 1.11.0, this behavior will change: the default value of `keepdims` will become False, the `axis` over which the statistic is taken will be eliminated, and the value None will no longer be accepted. Set `keepdims` to True or False to avoid this warning.\n",
      "  mode, _ = stats.mode(_y[neigh_ind, k], axis=1)\n",
      "/opt/anaconda3/lib/python3.9/site-packages/sklearn/neighbors/_classification.py:237: FutureWarning: Unlike other reduction functions (e.g. `skew`, `kurtosis`), the default behavior of `mode` typically preserves the axis it acts along. In SciPy 1.11.0, this behavior will change: the default value of `keepdims` will become False, the `axis` over which the statistic is taken will be eliminated, and the value None will no longer be accepted. Set `keepdims` to True or False to avoid this warning.\n",
      "  mode, _ = stats.mode(_y[neigh_ind, k], axis=1)\n",
      "/opt/anaconda3/lib/python3.9/site-packages/sklearn/neighbors/_classification.py:237: FutureWarning: Unlike other reduction functions (e.g. `skew`, `kurtosis`), the default behavior of `mode` typically preserves the axis it acts along. In SciPy 1.11.0, this behavior will change: the default value of `keepdims` will become False, the `axis` over which the statistic is taken will be eliminated, and the value None will no longer be accepted. Set `keepdims` to True or False to avoid this warning.\n",
      "  mode, _ = stats.mode(_y[neigh_ind, k], axis=1)\n",
      "/opt/anaconda3/lib/python3.9/site-packages/sklearn/neighbors/_classification.py:237: FutureWarning: Unlike other reduction functions (e.g. `skew`, `kurtosis`), the default behavior of `mode` typically preserves the axis it acts along. In SciPy 1.11.0, this behavior will change: the default value of `keepdims` will become False, the `axis` over which the statistic is taken will be eliminated, and the value None will no longer be accepted. Set `keepdims` to True or False to avoid this warning.\n",
      "  mode, _ = stats.mode(_y[neigh_ind, k], axis=1)\n",
      "/opt/anaconda3/lib/python3.9/site-packages/sklearn/neighbors/_classification.py:237: FutureWarning: Unlike other reduction functions (e.g. `skew`, `kurtosis`), the default behavior of `mode` typically preserves the axis it acts along. In SciPy 1.11.0, this behavior will change: the default value of `keepdims` will become False, the `axis` over which the statistic is taken will be eliminated, and the value None will no longer be accepted. Set `keepdims` to True or False to avoid this warning.\n",
      "  mode, _ = stats.mode(_y[neigh_ind, k], axis=1)\n",
      "/opt/anaconda3/lib/python3.9/site-packages/sklearn/neighbors/_classification.py:237: FutureWarning: Unlike other reduction functions (e.g. `skew`, `kurtosis`), the default behavior of `mode` typically preserves the axis it acts along. In SciPy 1.11.0, this behavior will change: the default value of `keepdims` will become False, the `axis` over which the statistic is taken will be eliminated, and the value None will no longer be accepted. Set `keepdims` to True or False to avoid this warning.\n",
      "  mode, _ = stats.mode(_y[neigh_ind, k], axis=1)\n",
      "/opt/anaconda3/lib/python3.9/site-packages/sklearn/neighbors/_classification.py:237: FutureWarning: Unlike other reduction functions (e.g. `skew`, `kurtosis`), the default behavior of `mode` typically preserves the axis it acts along. In SciPy 1.11.0, this behavior will change: the default value of `keepdims` will become False, the `axis` over which the statistic is taken will be eliminated, and the value None will no longer be accepted. Set `keepdims` to True or False to avoid this warning.\n",
      "  mode, _ = stats.mode(_y[neigh_ind, k], axis=1)\n",
      "/opt/anaconda3/lib/python3.9/site-packages/sklearn/neighbors/_classification.py:237: FutureWarning: Unlike other reduction functions (e.g. `skew`, `kurtosis`), the default behavior of `mode` typically preserves the axis it acts along. In SciPy 1.11.0, this behavior will change: the default value of `keepdims` will become False, the `axis` over which the statistic is taken will be eliminated, and the value None will no longer be accepted. Set `keepdims` to True or False to avoid this warning.\n",
      "  mode, _ = stats.mode(_y[neigh_ind, k], axis=1)\n",
      "/opt/anaconda3/lib/python3.9/site-packages/sklearn/neighbors/_classification.py:237: FutureWarning: Unlike other reduction functions (e.g. `skew`, `kurtosis`), the default behavior of `mode` typically preserves the axis it acts along. In SciPy 1.11.0, this behavior will change: the default value of `keepdims` will become False, the `axis` over which the statistic is taken will be eliminated, and the value None will no longer be accepted. Set `keepdims` to True or False to avoid this warning.\n",
      "  mode, _ = stats.mode(_y[neigh_ind, k], axis=1)\n",
      "/opt/anaconda3/lib/python3.9/site-packages/sklearn/neighbors/_classification.py:237: FutureWarning: Unlike other reduction functions (e.g. `skew`, `kurtosis`), the default behavior of `mode` typically preserves the axis it acts along. In SciPy 1.11.0, this behavior will change: the default value of `keepdims` will become False, the `axis` over which the statistic is taken will be eliminated, and the value None will no longer be accepted. Set `keepdims` to True or False to avoid this warning.\n",
      "  mode, _ = stats.mode(_y[neigh_ind, k], axis=1)\n",
      "/opt/anaconda3/lib/python3.9/site-packages/sklearn/neighbors/_classification.py:237: FutureWarning: Unlike other reduction functions (e.g. `skew`, `kurtosis`), the default behavior of `mode` typically preserves the axis it acts along. In SciPy 1.11.0, this behavior will change: the default value of `keepdims` will become False, the `axis` over which the statistic is taken will be eliminated, and the value None will no longer be accepted. Set `keepdims` to True or False to avoid this warning.\n",
      "  mode, _ = stats.mode(_y[neigh_ind, k], axis=1)\n"
     ]
    },
    {
     "data": {
      "text/html": [
       "<div>\n",
       "<style scoped>\n",
       "    .dataframe tbody tr th:only-of-type {\n",
       "        vertical-align: middle;\n",
       "    }\n",
       "\n",
       "    .dataframe tbody tr th {\n",
       "        vertical-align: top;\n",
       "    }\n",
       "\n",
       "    .dataframe thead th {\n",
       "        text-align: right;\n",
       "    }\n",
       "</style>\n",
       "<table border=\"1\" class=\"dataframe\">\n",
       "  <thead>\n",
       "    <tr style=\"text-align: right;\">\n",
       "      <th></th>\n",
       "      <th>Model</th>\n",
       "      <th>Accuracy Score in Train</th>\n",
       "      <th>Accuracy Score in Test</th>\n",
       "      <th>Cross Validation Mean</th>\n",
       "    </tr>\n",
       "  </thead>\n",
       "  <tbody>\n",
       "    <tr>\n",
       "      <th>0</th>\n",
       "      <td>RandomForestClassifier</td>\n",
       "      <td>0.948034</td>\n",
       "      <td>0.804469</td>\n",
       "      <td>0.815930</td>\n",
       "    </tr>\n",
       "    <tr>\n",
       "      <th>1</th>\n",
       "      <td>GaussianNB</td>\n",
       "      <td>0.771067</td>\n",
       "      <td>0.737430</td>\n",
       "      <td>0.750911</td>\n",
       "    </tr>\n",
       "    <tr>\n",
       "      <th>2</th>\n",
       "      <td>DecisionTreeClassifier</td>\n",
       "      <td>0.948034</td>\n",
       "      <td>0.798883</td>\n",
       "      <td>0.809201</td>\n",
       "    </tr>\n",
       "    <tr>\n",
       "      <th>3</th>\n",
       "      <td>KNeighborsClassifier</td>\n",
       "      <td>0.846910</td>\n",
       "      <td>0.782123</td>\n",
       "      <td>0.800337</td>\n",
       "    </tr>\n",
       "    <tr>\n",
       "      <th>4</th>\n",
       "      <td>LogisticRegression</td>\n",
       "      <td>0.796348</td>\n",
       "      <td>0.759777</td>\n",
       "      <td>0.782260</td>\n",
       "    </tr>\n",
       "    <tr>\n",
       "      <th>5</th>\n",
       "      <td>SVC</td>\n",
       "      <td>0.841292</td>\n",
       "      <td>0.793296</td>\n",
       "      <td>0.815968</td>\n",
       "    </tr>\n",
       "  </tbody>\n",
       "</table>\n",
       "</div>"
      ],
      "text/plain": [
       "                    Model  Accuracy Score in Train  Accuracy Score in Test  \\\n",
       "0  RandomForestClassifier                 0.948034                0.804469   \n",
       "1              GaussianNB                 0.771067                0.737430   \n",
       "2  DecisionTreeClassifier                 0.948034                0.798883   \n",
       "3    KNeighborsClassifier                 0.846910                0.782123   \n",
       "4      LogisticRegression                 0.796348                0.759777   \n",
       "5                     SVC                 0.841292                0.793296   \n",
       "\n",
       "   Cross Validation Mean  \n",
       "0               0.815930  \n",
       "1               0.750911  \n",
       "2               0.809201  \n",
       "3               0.800337  \n",
       "4               0.782260  \n",
       "5               0.815968  "
      ]
     },
     "execution_count": 137,
     "metadata": {},
     "output_type": "execute_result"
    }
   ],
   "source": [
    "# probability=True for SVC\n",
    "algos = [\n",
    "    RandomForestClassifier(),\n",
    "    GaussianNB(),\n",
    "    DecisionTreeClassifier(),\n",
    "    KNeighborsClassifier(),\n",
    "    LogisticRegression(),\n",
    "    SVC(probability=True),\n",
    "]\n",
    "\n",
    "df = {\"Model\": [], \"Accuracy Score in Train\": [], \"Accuracy Score in Test\": [], \"Cross Validation Mean\": []}\n",
    "for algo in algos:\n",
    "    model = algo.fit(X_train, y_train)\n",
    "    proba = algo.predict_proba(X_test)\n",
    "    y_pred = []\n",
    "    for p in proba:\n",
    "        if p[0] > p[1]:\n",
    "            y_pred.append(0)\n",
    "        else:\n",
    "            y_pred.append(1)\n",
    "    df[\"Model\"].append(str(algo)[:str(algo).find('(')])\n",
    "    df[\"Accuracy Score in Test\"].append(accuracy_score(y_test, y_pred))\n",
    "    df[\"Accuracy Score in Train\"].append(algo.score(X_train, y_train))\n",
    "    df[\"Cross Validation Mean\"].append(cross_val_score(algo, X_scaled, y, cv=10).mean())\n",
    "\n",
    "models = pd.DataFrame(df)\n",
    "models"
   ]
  },
  {
   "cell_type": "code",
   "execution_count": 145,
   "id": "6330b547",
   "metadata": {},
   "outputs": [
    {
     "data": {
      "text/html": [
       "<style>#sk-container-id-3 {color: black;background-color: white;}#sk-container-id-3 pre{padding: 0;}#sk-container-id-3 div.sk-toggleable {background-color: white;}#sk-container-id-3 label.sk-toggleable__label {cursor: pointer;display: block;width: 100%;margin-bottom: 0;padding: 0.3em;box-sizing: border-box;text-align: center;}#sk-container-id-3 label.sk-toggleable__label-arrow:before {content: \"▸\";float: left;margin-right: 0.25em;color: #696969;}#sk-container-id-3 label.sk-toggleable__label-arrow:hover:before {color: black;}#sk-container-id-3 div.sk-estimator:hover label.sk-toggleable__label-arrow:before {color: black;}#sk-container-id-3 div.sk-toggleable__content {max-height: 0;max-width: 0;overflow: hidden;text-align: left;background-color: #f0f8ff;}#sk-container-id-3 div.sk-toggleable__content pre {margin: 0.2em;color: black;border-radius: 0.25em;background-color: #f0f8ff;}#sk-container-id-3 input.sk-toggleable__control:checked~div.sk-toggleable__content {max-height: 200px;max-width: 100%;overflow: auto;}#sk-container-id-3 input.sk-toggleable__control:checked~label.sk-toggleable__label-arrow:before {content: \"▾\";}#sk-container-id-3 div.sk-estimator input.sk-toggleable__control:checked~label.sk-toggleable__label {background-color: #d4ebff;}#sk-container-id-3 div.sk-label input.sk-toggleable__control:checked~label.sk-toggleable__label {background-color: #d4ebff;}#sk-container-id-3 input.sk-hidden--visually {border: 0;clip: rect(1px 1px 1px 1px);clip: rect(1px, 1px, 1px, 1px);height: 1px;margin: -1px;overflow: hidden;padding: 0;position: absolute;width: 1px;}#sk-container-id-3 div.sk-estimator {font-family: monospace;background-color: #f0f8ff;border: 1px dotted black;border-radius: 0.25em;box-sizing: border-box;margin-bottom: 0.5em;}#sk-container-id-3 div.sk-estimator:hover {background-color: #d4ebff;}#sk-container-id-3 div.sk-parallel-item::after {content: \"\";width: 100%;border-bottom: 1px solid gray;flex-grow: 1;}#sk-container-id-3 div.sk-label:hover label.sk-toggleable__label {background-color: #d4ebff;}#sk-container-id-3 div.sk-serial::before {content: \"\";position: absolute;border-left: 1px solid gray;box-sizing: border-box;top: 0;bottom: 0;left: 50%;z-index: 0;}#sk-container-id-3 div.sk-serial {display: flex;flex-direction: column;align-items: center;background-color: white;padding-right: 0.2em;padding-left: 0.2em;position: relative;}#sk-container-id-3 div.sk-item {position: relative;z-index: 1;}#sk-container-id-3 div.sk-parallel {display: flex;align-items: stretch;justify-content: center;background-color: white;position: relative;}#sk-container-id-3 div.sk-item::before, #sk-container-id-3 div.sk-parallel-item::before {content: \"\";position: absolute;border-left: 1px solid gray;box-sizing: border-box;top: 0;bottom: 0;left: 50%;z-index: -1;}#sk-container-id-3 div.sk-parallel-item {display: flex;flex-direction: column;z-index: 1;position: relative;background-color: white;}#sk-container-id-3 div.sk-parallel-item:first-child::after {align-self: flex-end;width: 50%;}#sk-container-id-3 div.sk-parallel-item:last-child::after {align-self: flex-start;width: 50%;}#sk-container-id-3 div.sk-parallel-item:only-child::after {width: 0;}#sk-container-id-3 div.sk-dashed-wrapped {border: 1px dashed gray;margin: 0 0.4em 0.5em 0.4em;box-sizing: border-box;padding-bottom: 0.4em;background-color: white;}#sk-container-id-3 div.sk-label label {font-family: monospace;font-weight: bold;display: inline-block;line-height: 1.2em;}#sk-container-id-3 div.sk-label-container {text-align: center;}#sk-container-id-3 div.sk-container {/* jupyter's `normalize.less` sets `[hidden] { display: none; }` but bootstrap.min.css set `[hidden] { display: none !important; }` so we also need the `!important` here to be able to override the default hidden behavior on the sphinx rendered scikit-learn.org. See: https://github.com/scikit-learn/scikit-learn/issues/21755 */display: inline-block !important;position: relative;}#sk-container-id-3 div.sk-text-repr-fallback {display: none;}</style><div id=\"sk-container-id-3\" class=\"sk-top-container\"><div class=\"sk-text-repr-fallback\"><pre>GridSearchCV(estimator=RandomForestClassifier(),\n",
       "             param_grid={&#x27;bootstrap&#x27;: [True, False],\n",
       "                         &#x27;max_depth&#x27;: [10, 20, 30, 40, 50, 60, 70, 80, 90, 100,\n",
       "                                       110, None],\n",
       "                         &#x27;max_features&#x27;: [&#x27;auto&#x27;, &#x27;sqrt&#x27;],\n",
       "                         &#x27;min_samples_leaf&#x27;: [1, 2, 4],\n",
       "                         &#x27;min_samples_split&#x27;: [2, 5, 10],\n",
       "                         &#x27;n_estimators&#x27;: [0, 22, 44, 66, 88, 111, 133, 155, 177,\n",
       "                                          200]})</pre><b>In a Jupyter environment, please rerun this cell to show the HTML representation or trust the notebook. <br />On GitHub, the HTML representation is unable to render, please try loading this page with nbviewer.org.</b></div><div class=\"sk-container\" hidden><div class=\"sk-item sk-dashed-wrapped\"><div class=\"sk-label-container\"><div class=\"sk-label sk-toggleable\"><input class=\"sk-toggleable__control sk-hidden--visually\" id=\"sk-estimator-id-7\" type=\"checkbox\" ><label for=\"sk-estimator-id-7\" class=\"sk-toggleable__label sk-toggleable__label-arrow\">GridSearchCV</label><div class=\"sk-toggleable__content\"><pre>GridSearchCV(estimator=RandomForestClassifier(),\n",
       "             param_grid={&#x27;bootstrap&#x27;: [True, False],\n",
       "                         &#x27;max_depth&#x27;: [10, 20, 30, 40, 50, 60, 70, 80, 90, 100,\n",
       "                                       110, None],\n",
       "                         &#x27;max_features&#x27;: [&#x27;auto&#x27;, &#x27;sqrt&#x27;],\n",
       "                         &#x27;min_samples_leaf&#x27;: [1, 2, 4],\n",
       "                         &#x27;min_samples_split&#x27;: [2, 5, 10],\n",
       "                         &#x27;n_estimators&#x27;: [0, 22, 44, 66, 88, 111, 133, 155, 177,\n",
       "                                          200]})</pre></div></div></div><div class=\"sk-parallel\"><div class=\"sk-parallel-item\"><div class=\"sk-item\"><div class=\"sk-label-container\"><div class=\"sk-label sk-toggleable\"><input class=\"sk-toggleable__control sk-hidden--visually\" id=\"sk-estimator-id-8\" type=\"checkbox\" ><label for=\"sk-estimator-id-8\" class=\"sk-toggleable__label sk-toggleable__label-arrow\">estimator: RandomForestClassifier</label><div class=\"sk-toggleable__content\"><pre>RandomForestClassifier()</pre></div></div></div><div class=\"sk-serial\"><div class=\"sk-item\"><div class=\"sk-estimator sk-toggleable\"><input class=\"sk-toggleable__control sk-hidden--visually\" id=\"sk-estimator-id-9\" type=\"checkbox\" ><label for=\"sk-estimator-id-9\" class=\"sk-toggleable__label sk-toggleable__label-arrow\">RandomForestClassifier</label><div class=\"sk-toggleable__content\"><pre>RandomForestClassifier()</pre></div></div></div></div></div></div></div></div></div></div>"
      ],
      "text/plain": [
       "GridSearchCV(estimator=RandomForestClassifier(),\n",
       "             param_grid={'bootstrap': [True, False],\n",
       "                         'max_depth': [10, 20, 30, 40, 50, 60, 70, 80, 90, 100,\n",
       "                                       110, None],\n",
       "                         'max_features': ['auto', 'sqrt'],\n",
       "                         'min_samples_leaf': [1, 2, 4],\n",
       "                         'min_samples_split': [2, 5, 10],\n",
       "                         'n_estimators': [0, 22, 44, 66, 88, 111, 133, 155, 177,\n",
       "                                          200]})"
      ]
     },
     "execution_count": 145,
     "metadata": {},
     "output_type": "execute_result"
    }
   ],
   "source": [
    "%%capture --no-display\n",
    "from sklearn.model_selection import GridSearchCV\n",
    "n_estimators = [int(x) for x in np.linspace(start = 0, stop = 200, num = 10)]\n",
    "# Number of features to consider at every split\n",
    "max_features = ['auto', 'sqrt']\n",
    "# Maximum number of levels in tree\n",
    "max_depth = [int(x) for x in np.linspace(10, 110, num = 11)]\n",
    "max_depth.append(None)\n",
    "# Minimum number of samples required to split a node\n",
    "min_samples_split = [2, 5, 10]\n",
    "# Minimum number of samples required at each leaf node\n",
    "min_samples_leaf = [1, 2, 4]\n",
    "# Method of selecting samples for training each tree\n",
    "bootstrap = [True, False]\n",
    "# Create the random grid\n",
    "random_grid = {'n_estimators': n_estimators,\n",
    "               'max_features': max_features,\n",
    "               'max_depth': max_depth,\n",
    "               'min_samples_split': min_samples_split,\n",
    "               'min_samples_leaf': min_samples_leaf,\n",
    "               'bootstrap': bootstrap}\n",
    "gsc = GridSearchCV(RandomForestClassifier(), random_grid)\n",
    "gsc.fit(X_scaled, y)"
   ]
  },
  {
   "cell_type": "code",
   "execution_count": 146,
   "id": "dea15168",
   "metadata": {},
   "outputs": [
    {
     "name": "stdout",
     "output_type": "stream",
     "text": [
      "The best paramters: {'bootstrap': True, 'max_depth': 80, 'max_features': 'sqrt', 'min_samples_leaf': 2, 'min_samples_split': 10, 'n_estimators': 44}\n",
      "The best score: 0.8384031134266525\n"
     ]
    }
   ],
   "source": [
    "print(f\"The best paramters: {gsc.best_params_}\")\n",
    "print(f\"The best score: {gsc.best_score_}\")\n"
   ]
  },
  {
   "cell_type": "code",
   "execution_count": 151,
   "id": "e6e27765",
   "metadata": {},
   "outputs": [],
   "source": [
    "cls = RandomForestClassifier(bootstrap=True,max_depth=80,max_features='sqrt',min_samples_leaf=2,min_samples_split=10,n_estimators=44).fit(X_scaled, y)"
   ]
  },
  {
   "cell_type": "code",
   "execution_count": 152,
   "id": "da441cd6",
   "metadata": {},
   "outputs": [],
   "source": [
    "sub = pd.read_csv('./gender_submission.csv')\n",
    "predicted = cls.predict(nTest_scaled)\n",
    "sub.to_csv('submission_final_3.csv', index=False)"
   ]
  },
  {
   "cell_type": "code",
   "execution_count": null,
   "id": "0903dc45",
   "metadata": {},
   "outputs": [],
   "source": []
  }
 ],
 "metadata": {
  "kernelspec": {
   "display_name": "Python 3 (ipykernel)",
   "language": "python",
   "name": "python3"
  },
  "language_info": {
   "codemirror_mode": {
    "name": "ipython",
    "version": 3
   },
   "file_extension": ".py",
   "mimetype": "text/x-python",
   "name": "python",
   "nbconvert_exporter": "python",
   "pygments_lexer": "ipython3",
   "version": "3.9.13"
  },
  "vscode": {
   "interpreter": {
    "hash": "5c7b89af1651d0b8571dde13640ecdccf7d5a6204171d6ab33e7c296e100e08a"
   }
  }
 },
 "nbformat": 4,
 "nbformat_minor": 5
}
