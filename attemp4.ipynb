{
 "cells": [
  {
   "cell_type": "markdown",
   "id": "53efc35f",
   "metadata": {},
   "source": [
    "#### Name: HARIPRASAD SIVAPATHAM ANAND\n",
    "#### Student Number: 202205341\n",
    "#### Email: x2022gmv@gmail.com\n",
    "#### Accuracy Achieved: 84.688%"
   ]
  },
  {
   "cell_type": "code",
   "execution_count": 37,
   "id": "9b4b1656",
   "metadata": {},
   "outputs": [],
   "source": [
    "# Created by referring https://www.kaggle.com/code/rayalacheruvuhemanth/titanic-with-86-accuracy/notebook\n",
    "import numpy as np\n",
    "import pandas as pd\n",
    "\n",
    "import matplotlib.pyplot as plt\n",
    "import seaborn as sns\n",
    "\n",
    "from sklearn.model_selection import train_test_split"
   ]
  },
  {
   "cell_type": "code",
   "execution_count": 38,
   "id": "e1f9f414",
   "metadata": {},
   "outputs": [],
   "source": [
    "train=pd.read_csv('./train.csv')\n",
    "test=pd.read_csv('./test.csv')"
   ]
  },
  {
   "cell_type": "code",
   "execution_count": 39,
   "id": "2c221834",
   "metadata": {},
   "outputs": [],
   "source": [
    "for i in [train,test]:\n",
    "    i[\"Title\"]=i[\"Name\"].str.split(',',expand=True)[1].str.split('.',expand=True)[0]\n",
    "    i[\"Title\"].unique()\n",
    "    i[\"Title\"]=i[\"Title\"].replace([\" Don\",\" Rev\",\" Dr\",\" Major\",\" Lady\",\" Sir\",\" Col\",\" Capt\",\" the Countess\",\" Jonkheer\"],\"Rare\")\n",
    "    i[\"Title\"]=i[\"Title\"].replace([\" Mlle\", \" Ms\"],\" Miss\")\n",
    "    i[\"Title\"]=i[\"Title\"].replace([\" Mme\",\" Mrs\"],\" Mr\")"
   ]
  },
  {
   "cell_type": "code",
   "execution_count": 40,
   "id": "ada27471",
   "metadata": {},
   "outputs": [],
   "source": [
    "target='Survived'\n",
    "x_train,x_test,y_train,y_test=train_test_split(train.drop(target,axis=1),train[target],test_size=.3,random_state=0)\n",
    "df_train=pd.concat([x_train,y_train],axis=1)\n",
    "df_test=pd.concat([x_test,y_test],axis=1)\n",
    "#lets drop PassengerId, Name and Ticket because this features are no use for business\n",
    "for i in [df_train,df_test,test]:\n",
    "    i.drop(['Name','Ticket','PassengerId'],axis=1,inplace=True)"
   ]
  },
  {
   "cell_type": "code",
   "execution_count": 41,
   "id": "2384843c",
   "metadata": {},
   "outputs": [
    {
     "name": "stdout",
     "output_type": "stream",
     "text": [
      "categorical_features :\n",
      " ['Sex', 'Cabin', 'Embarked', 'Title'] \n",
      "numerical_features :\n",
      " ['Pclass', 'Age', 'SibSp', 'Parch', 'Fare', 'Survived']\n"
     ]
    }
   ],
   "source": [
    "categorical_features=[i for i in df_train.columns if df_train[i].dtype=='O']\n",
    "numerical_features=[i for i in df_train.columns if df_train[i].dtype!='O']\n",
    "print('categorical_features :\\n',categorical_features,'\\nnumerical_features :\\n',numerical_features)\n"
   ]
  },
  {
   "cell_type": "code",
   "execution_count": 42,
   "id": "fc4da7a7",
   "metadata": {},
   "outputs": [],
   "source": [
    "df_train_bckup=df_train.copy()\n",
    "df_test_bckup=df_test.copy()"
   ]
  },
  {
   "cell_type": "code",
   "execution_count": 43,
   "id": "35c6fc3a",
   "metadata": {},
   "outputs": [],
   "source": [
    "#descrete features\n",
    "def panch_treat(x):\n",
    "    if x==0:\n",
    "        return 3\n",
    "    elif x in [1,2]:\n",
    "        return 2\n",
    "    else:\n",
    "        return 1\n",
    "def pclass_treat(x):\n",
    "    if x==1:\n",
    "        return 3\n",
    "    elif x==2:\n",
    "        return 2\n",
    "    else:\n",
    "        return 1\n",
    "def sibsp_treat(x):\n",
    "    if x==0:\n",
    "        return 3\n",
    "    elif x in [1,2]:\n",
    "        return 2\n",
    "    else:\n",
    "        return 1\n",
    "## categorical features\n",
    "def title_treat(x):\n",
    "    if x==' Master':\n",
    "        return 4\n",
    "    elif x=='Rare':\n",
    "        return 3\n",
    "    elif x==' Miss':\n",
    "        return 2\n",
    "    elif x==' Mr':\n",
    "        return 1\n",
    "    else:\n",
    "        return np.nan\n",
    "def enbarked_treat(x):\n",
    "    if x=='C':\n",
    "        return 3\n",
    "    elif x=='S':\n",
    "        return 2\n",
    "    elif x=='Q':\n",
    "        return 1\n",
    "    else:\n",
    "        return np.nan\n",
    "def sex_treat(x):\n",
    "    if x=='female':\n",
    "        return 2\n",
    "    elif x=='male':\n",
    "        return 1\n",
    "    else:\n",
    "        np.nan"
   ]
  },
  {
   "cell_type": "code",
   "execution_count": 44,
   "id": "80d2a2dd",
   "metadata": {},
   "outputs": [
    {
     "name": "stderr",
     "output_type": "stream",
     "text": [
      "/var/folders/by/184_ssn10lnc4qqfg1zpslqc0000gn/T/ipykernel_71551/2668024166.py:4: SettingWithCopyWarning: \n",
      "A value is trying to be set on a copy of a slice from a DataFrame\n",
      "\n",
      "See the caveats in the documentation: https://pandas.pydata.org/pandas-docs/stable/user_guide/indexing.html#returning-a-view-versus-a-copy\n",
      "  j['Cabin'].iloc[i]=j['Cabin'].iloc[i][0]\n"
     ]
    }
   ],
   "source": [
    "for j in [df_train,df_test,test]:\n",
    "    for i in range(0,len(j['Cabin'])):\n",
    "        if(pd.notnull(j['Cabin'].iloc[i])):\n",
    "            j['Cabin'].iloc[i]=j['Cabin'].iloc[i][0]\n"
   ]
  },
  {
   "cell_type": "code",
   "execution_count": 45,
   "id": "6c9f3405",
   "metadata": {},
   "outputs": [],
   "source": [
    "for j in [df_train,df_test,test]:\n",
    "    j['Cabin']=j['Cabin'].replace({'A':3,'B':7,'C':6,'D':4,'E':5,'F':2,'G':1,'T':np.nan})\n"
   ]
  },
  {
   "cell_type": "code",
   "execution_count": 46,
   "id": "df644049",
   "metadata": {},
   "outputs": [],
   "source": [
    "for j in [df_train,df_test,test]:\n",
    "    j['Pclass']=j['Pclass'].apply(lambda x:panch_treat(x))\n",
    "    j['SibSp']=j['SibSp'].apply(lambda x:pclass_treat(x))\n",
    "    j['Parch']=j['Parch'].apply(lambda x:sibsp_treat(x))\n",
    "    #categorical features\n",
    "    j['Title']=j['Title'].apply(lambda x:title_treat(x))\n",
    "    j['Embarked']=j['Embarked'].apply(lambda x:enbarked_treat(x))\n",
    "    j['Sex']=j['Sex'].apply(lambda x:sex_treat(x))"
   ]
  },
  {
   "cell_type": "code",
   "execution_count": 47,
   "id": "da4735e5",
   "metadata": {},
   "outputs": [],
   "source": [
    "cols = ['Model','ROC Score', 'Precision Score', 'Recall Score','Train dataset Accuracy Score','Test dataset Accuracy Score','Kappa Score']\n",
    "result = pd.DataFrame(columns = cols)\n"
   ]
  },
  {
   "cell_type": "code",
   "execution_count": 48,
   "id": "9cf9af87",
   "metadata": {},
   "outputs": [],
   "source": [
    "from sklearn.metrics import classification_report,roc_auc_score,precision_score,recall_score,accuracy_score,cohen_kappa_score,roc_curve\n",
    "def model_built1():\n",
    "    global df_train,df_test,x_train,x_test,y_train,y_test\n",
    "    x_train,y_train=df_train.drop(target,axis=1).copy(),df_train[target].copy()\n",
    "    x_test,y_test=df_test.drop(target,axis=1).copy(),df_test[target].copy()\n"
   ]
  },
  {
   "cell_type": "code",
   "execution_count": 49,
   "id": "54e4bd41",
   "metadata": {},
   "outputs": [],
   "source": [
    "model_built1()"
   ]
  },
  {
   "cell_type": "code",
   "execution_count": 50,
   "id": "b3d5f63c",
   "metadata": {},
   "outputs": [],
   "source": [
    "from sklearn.experimental import enable_iterative_imputer\n",
    "from sklearn.impute import IterativeImputer\n",
    "from sklearn.feature_selection import VarianceThreshold\n",
    "from sklearn.pipeline import Pipeline,make_pipeline\n",
    "from sklearn.ensemble import GradientBoostingClassifier\n",
    "from sklearn.linear_model import SGDClassifier\n",
    "from sklearn.impute import KNNImputer\n",
    "impute=KNNImputer(n_neighbors= 21)\n",
    "pipeline1=Pipeline(steps=[('a',impute),('s',VarianceThreshold()),('mm',GradientBoostingClassifier())])"
   ]
  },
  {
   "cell_type": "code",
   "execution_count": 51,
   "id": "4d1dd317",
   "metadata": {},
   "outputs": [
    {
     "data": {
      "text/html": [
       "<style>#sk-container-id-4 {color: black;background-color: white;}#sk-container-id-4 pre{padding: 0;}#sk-container-id-4 div.sk-toggleable {background-color: white;}#sk-container-id-4 label.sk-toggleable__label {cursor: pointer;display: block;width: 100%;margin-bottom: 0;padding: 0.3em;box-sizing: border-box;text-align: center;}#sk-container-id-4 label.sk-toggleable__label-arrow:before {content: \"▸\";float: left;margin-right: 0.25em;color: #696969;}#sk-container-id-4 label.sk-toggleable__label-arrow:hover:before {color: black;}#sk-container-id-4 div.sk-estimator:hover label.sk-toggleable__label-arrow:before {color: black;}#sk-container-id-4 div.sk-toggleable__content {max-height: 0;max-width: 0;overflow: hidden;text-align: left;background-color: #f0f8ff;}#sk-container-id-4 div.sk-toggleable__content pre {margin: 0.2em;color: black;border-radius: 0.25em;background-color: #f0f8ff;}#sk-container-id-4 input.sk-toggleable__control:checked~div.sk-toggleable__content {max-height: 200px;max-width: 100%;overflow: auto;}#sk-container-id-4 input.sk-toggleable__control:checked~label.sk-toggleable__label-arrow:before {content: \"▾\";}#sk-container-id-4 div.sk-estimator input.sk-toggleable__control:checked~label.sk-toggleable__label {background-color: #d4ebff;}#sk-container-id-4 div.sk-label input.sk-toggleable__control:checked~label.sk-toggleable__label {background-color: #d4ebff;}#sk-container-id-4 input.sk-hidden--visually {border: 0;clip: rect(1px 1px 1px 1px);clip: rect(1px, 1px, 1px, 1px);height: 1px;margin: -1px;overflow: hidden;padding: 0;position: absolute;width: 1px;}#sk-container-id-4 div.sk-estimator {font-family: monospace;background-color: #f0f8ff;border: 1px dotted black;border-radius: 0.25em;box-sizing: border-box;margin-bottom: 0.5em;}#sk-container-id-4 div.sk-estimator:hover {background-color: #d4ebff;}#sk-container-id-4 div.sk-parallel-item::after {content: \"\";width: 100%;border-bottom: 1px solid gray;flex-grow: 1;}#sk-container-id-4 div.sk-label:hover label.sk-toggleable__label {background-color: #d4ebff;}#sk-container-id-4 div.sk-serial::before {content: \"\";position: absolute;border-left: 1px solid gray;box-sizing: border-box;top: 0;bottom: 0;left: 50%;z-index: 0;}#sk-container-id-4 div.sk-serial {display: flex;flex-direction: column;align-items: center;background-color: white;padding-right: 0.2em;padding-left: 0.2em;position: relative;}#sk-container-id-4 div.sk-item {position: relative;z-index: 1;}#sk-container-id-4 div.sk-parallel {display: flex;align-items: stretch;justify-content: center;background-color: white;position: relative;}#sk-container-id-4 div.sk-item::before, #sk-container-id-4 div.sk-parallel-item::before {content: \"\";position: absolute;border-left: 1px solid gray;box-sizing: border-box;top: 0;bottom: 0;left: 50%;z-index: -1;}#sk-container-id-4 div.sk-parallel-item {display: flex;flex-direction: column;z-index: 1;position: relative;background-color: white;}#sk-container-id-4 div.sk-parallel-item:first-child::after {align-self: flex-end;width: 50%;}#sk-container-id-4 div.sk-parallel-item:last-child::after {align-self: flex-start;width: 50%;}#sk-container-id-4 div.sk-parallel-item:only-child::after {width: 0;}#sk-container-id-4 div.sk-dashed-wrapped {border: 1px dashed gray;margin: 0 0.4em 0.5em 0.4em;box-sizing: border-box;padding-bottom: 0.4em;background-color: white;}#sk-container-id-4 div.sk-label label {font-family: monospace;font-weight: bold;display: inline-block;line-height: 1.2em;}#sk-container-id-4 div.sk-label-container {text-align: center;}#sk-container-id-4 div.sk-container {/* jupyter's `normalize.less` sets `[hidden] { display: none; }` but bootstrap.min.css set `[hidden] { display: none !important; }` so we also need the `!important` here to be able to override the default hidden behavior on the sphinx rendered scikit-learn.org. See: https://github.com/scikit-learn/scikit-learn/issues/21755 */display: inline-block !important;position: relative;}#sk-container-id-4 div.sk-text-repr-fallback {display: none;}</style><div id=\"sk-container-id-4\" class=\"sk-top-container\"><div class=\"sk-text-repr-fallback\"><pre>Pipeline(steps=[(&#x27;a&#x27;, KNNImputer(n_neighbors=21)), (&#x27;s&#x27;, VarianceThreshold()),\n",
       "                (&#x27;mm&#x27;, GradientBoostingClassifier())])</pre><b>In a Jupyter environment, please rerun this cell to show the HTML representation or trust the notebook. <br />On GitHub, the HTML representation is unable to render, please try loading this page with nbviewer.org.</b></div><div class=\"sk-container\" hidden><div class=\"sk-item sk-dashed-wrapped\"><div class=\"sk-label-container\"><div class=\"sk-label sk-toggleable\"><input class=\"sk-toggleable__control sk-hidden--visually\" id=\"sk-estimator-id-13\" type=\"checkbox\" ><label for=\"sk-estimator-id-13\" class=\"sk-toggleable__label sk-toggleable__label-arrow\">Pipeline</label><div class=\"sk-toggleable__content\"><pre>Pipeline(steps=[(&#x27;a&#x27;, KNNImputer(n_neighbors=21)), (&#x27;s&#x27;, VarianceThreshold()),\n",
       "                (&#x27;mm&#x27;, GradientBoostingClassifier())])</pre></div></div></div><div class=\"sk-serial\"><div class=\"sk-item\"><div class=\"sk-estimator sk-toggleable\"><input class=\"sk-toggleable__control sk-hidden--visually\" id=\"sk-estimator-id-14\" type=\"checkbox\" ><label for=\"sk-estimator-id-14\" class=\"sk-toggleable__label sk-toggleable__label-arrow\">KNNImputer</label><div class=\"sk-toggleable__content\"><pre>KNNImputer(n_neighbors=21)</pre></div></div></div><div class=\"sk-item\"><div class=\"sk-estimator sk-toggleable\"><input class=\"sk-toggleable__control sk-hidden--visually\" id=\"sk-estimator-id-15\" type=\"checkbox\" ><label for=\"sk-estimator-id-15\" class=\"sk-toggleable__label sk-toggleable__label-arrow\">VarianceThreshold</label><div class=\"sk-toggleable__content\"><pre>VarianceThreshold()</pre></div></div></div><div class=\"sk-item\"><div class=\"sk-estimator sk-toggleable\"><input class=\"sk-toggleable__control sk-hidden--visually\" id=\"sk-estimator-id-16\" type=\"checkbox\" ><label for=\"sk-estimator-id-16\" class=\"sk-toggleable__label sk-toggleable__label-arrow\">GradientBoostingClassifier</label><div class=\"sk-toggleable__content\"><pre>GradientBoostingClassifier()</pre></div></div></div></div></div></div></div>"
      ],
      "text/plain": [
       "Pipeline(steps=[('a', KNNImputer(n_neighbors=21)), ('s', VarianceThreshold()),\n",
       "                ('mm', GradientBoostingClassifier())])"
      ]
     },
     "execution_count": 51,
     "metadata": {},
     "output_type": "execute_result"
    }
   ],
   "source": [
    "pipeline1.fit(x_train,y_train)"
   ]
  },
  {
   "cell_type": "code",
   "execution_count": 52,
   "id": "b2d27f5d",
   "metadata": {},
   "outputs": [],
   "source": [
    "y_pred=pipeline1.predict(x_test)\n"
   ]
  },
  {
   "cell_type": "code",
   "execution_count": 53,
   "id": "9869a508",
   "metadata": {},
   "outputs": [],
   "source": [
    "pipeline2=Pipeline(steps=[('a',impute),('s',VarianceThreshold()),('mm',SGDClassifier())])"
   ]
  },
  {
   "cell_type": "code",
   "execution_count": 54,
   "id": "aac53650",
   "metadata": {},
   "outputs": [],
   "source": [
    "pipelines=[pipeline1, pipeline2]\n",
    "pipe_dict = {0: 'GradientBoostingClassifier', 1: 'SGDClassifier'}\n",
    "for pipe in pipelines:\n",
    "    pipe.fit(x_train,y_train)"
   ]
  },
  {
   "cell_type": "code",
   "execution_count": 55,
   "id": "74652fcb",
   "metadata": {},
   "outputs": [
    {
     "name": "stdout",
     "output_type": "stream",
     "text": [
      "GradientBoostingClassifier Test Accuracy: 0.8246268656716418\n",
      "SGDClassifier Test Accuracy: 0.7089552238805971\n"
     ]
    }
   ],
   "source": [
    "for i,model in enumerate(pipelines):\n",
    "    print(\"{} Test Accuracy: {}\".format(pipe_dict[i],model.score(x_test,y_test)))"
   ]
  },
  {
   "cell_type": "code",
   "execution_count": 56,
   "id": "15da334d",
   "metadata": {},
   "outputs": [],
   "source": [
    "# KNN Imputer\n",
    "\n",
    "from sklearn.impute import KNNImputer\n",
    "imputer = KNNImputer(n_neighbors= 9)\n",
    "impute_with_train = imputer.fit_transform(x_train)\n",
    "impute_with_test = imputer.fit_transform(x_test)"
   ]
  },
  {
   "cell_type": "code",
   "execution_count": 57,
   "id": "514d0a7b",
   "metadata": {},
   "outputs": [],
   "source": [
    "def result_table(model_name):\n",
    "    global model,x_train,x_test,y_test,y_train,y_pred,result,model\n",
    "    tmp1 = pd.Series({'Model': model_name,\n",
    "                     'ROC Score' : roc_auc_score(y_test, y_pred),\n",
    "                     'Precision Score': precision_score(y_test, y_pred),\n",
    "                     'Recall Score': recall_score(y_test, y_pred),\n",
    "                     'Train dataset Accuracy Score': model.score(x_train,y_train),\n",
    "                     'Test dataset Accuracy Score': accuracy_score(y_test, y_pred),\n",
    "                     'Kappa Score': cohen_kappa_score(y_test, y_pred)})\n",
    "    result = result.append(tmp1, ignore_index = True)\n",
    "    #Ploting ROC Curve\n",
    "    # Generate ROC curve values: fpr, tpr, thresholds\n",
    "    fpr, tpr, thresholds = roc_curve(y_test, y_pred)\n",
    "    # Plot ROC curve\n",
    "    plt.plot([0, 1], [0, 1], 'k--')\n",
    "    plt.plot(fpr, tpr)\n",
    "    plt.xlabel('False Positive Rate')\n",
    "    plt.ylabel('True Positive Rate')\n",
    "    plt.title('ROC Curve')\n",
    "    plt.show()\n",
    "    return result"
   ]
  },
  {
   "cell_type": "code",
   "execution_count": 58,
   "id": "415c4c69",
   "metadata": {},
   "outputs": [],
   "source": [
    "model=pipeline1\n"
   ]
  },
  {
   "cell_type": "code",
   "execution_count": 59,
   "id": "2085ee70",
   "metadata": {},
   "outputs": [
    {
     "name": "stderr",
     "output_type": "stream",
     "text": [
      "/var/folders/by/184_ssn10lnc4qqfg1zpslqc0000gn/T/ipykernel_71551/345335746.py:10: FutureWarning: The frame.append method is deprecated and will be removed from pandas in a future version. Use pandas.concat instead.\n",
      "  result = result.append(tmp1, ignore_index = True)\n"
     ]
    },
    {
     "data": {
      "image/png": "[encoded data removed]",
      "text/plain": [
       "<Figure size 640x480 with 1 Axes>"
      ]
     },
     "metadata": {},
     "output_type": "display_data"
    },
    {
     "data": {
      "text/html": [
       "<div>\n",
       "<style scoped>\n",
       "    .dataframe tbody tr th:only-of-type {\n",
       "        vertical-align: middle;\n",
       "    }\n",
       "\n",
       "    .dataframe tbody tr th {\n",
       "        vertical-align: top;\n",
       "    }\n",
       "\n",
       "    .dataframe thead th {\n",
       "        text-align: right;\n",
       "    }\n",
       "</style>\n",
       "<table border=\"1\" class=\"dataframe\">\n",
       "  <thead>\n",
       "    <tr style=\"text-align: right;\">\n",
       "      <th></th>\n",
       "      <th>Model</th>\n",
       "      <th>ROC Score</th>\n",
       "      <th>Precision Score</th>\n",
       "      <th>Recall Score</th>\n",
       "      <th>Train dataset Accuracy Score</th>\n",
       "      <th>Test dataset Accuracy Score</th>\n",
       "      <th>Kappa Score</th>\n",
       "    </tr>\n",
       "  </thead>\n",
       "  <tbody>\n",
       "    <tr>\n",
       "      <th>0</th>\n",
       "      <td>GBoost</td>\n",
       "      <td>0.799405</td>\n",
       "      <td>0.804598</td>\n",
       "      <td>0.7</td>\n",
       "      <td>0.914928</td>\n",
       "      <td>0.824627</td>\n",
       "      <td>0.61499</td>\n",
       "    </tr>\n",
       "  </tbody>\n",
       "</table>\n",
       "</div>"
      ],
      "text/plain": [
       "    Model  ROC Score  Precision Score  Recall Score  \\\n",
       "0  GBoost   0.799405         0.804598           0.7   \n",
       "\n",
       "   Train dataset Accuracy Score  Test dataset Accuracy Score  Kappa Score  \n",
       "0                      0.914928                     0.824627      0.61499  "
      ]
     },
     "execution_count": 59,
     "metadata": {},
     "output_type": "execute_result"
    }
   ],
   "source": [
    "result_table(model_name='GBoost')\n"
   ]
  },
  {
   "cell_type": "code",
   "execution_count": 60,
   "id": "d3d18e8c",
   "metadata": {},
   "outputs": [],
   "source": [
    "impute=IterativeImputer(imputation_order='random',max_iter=21)\n",
    "pipeline2=Pipeline(steps=[('a',impute),('s',VarianceThreshold()),('mm',GradientBoostingClassifier())])\n",
    "pipeline2.fit(x_train,y_train)\n",
    "y_pred=pipeline2.predict(x_test)\n"
   ]
  },
  {
   "cell_type": "code",
   "execution_count": 61,
   "id": "3ca5618a",
   "metadata": {},
   "outputs": [
    {
     "name": "stderr",
     "output_type": "stream",
     "text": [
      "/var/folders/by/184_ssn10lnc4qqfg1zpslqc0000gn/T/ipykernel_71551/345335746.py:10: FutureWarning: The frame.append method is deprecated and will be removed from pandas in a future version. Use pandas.concat instead.\n",
      "  result = result.append(tmp1, ignore_index = True)\n"
     ]
    },
    {
     "data": {
      "image/png": "[encoded data removed]",
      "text/plain": [
       "<Figure size 640x480 with 1 Axes>"
      ]
     },
     "metadata": {},
     "output_type": "display_data"
    },
    {
     "data": {
      "text/html": [
       "<div>\n",
       "<style scoped>\n",
       "    .dataframe tbody tr th:only-of-type {\n",
       "        vertical-align: middle;\n",
       "    }\n",
       "\n",
       "    .dataframe tbody tr th {\n",
       "        vertical-align: top;\n",
       "    }\n",
       "\n",
       "    .dataframe thead th {\n",
       "        text-align: right;\n",
       "    }\n",
       "</style>\n",
       "<table border=\"1\" class=\"dataframe\">\n",
       "  <thead>\n",
       "    <tr style=\"text-align: right;\">\n",
       "      <th></th>\n",
       "      <th>Model</th>\n",
       "      <th>ROC Score</th>\n",
       "      <th>Precision Score</th>\n",
       "      <th>Recall Score</th>\n",
       "      <th>Train dataset Accuracy Score</th>\n",
       "      <th>Test dataset Accuracy Score</th>\n",
       "      <th>Kappa Score</th>\n",
       "    </tr>\n",
       "  </thead>\n",
       "  <tbody>\n",
       "    <tr>\n",
       "      <th>0</th>\n",
       "      <td>GBoost</td>\n",
       "      <td>0.799405</td>\n",
       "      <td>0.804598</td>\n",
       "      <td>0.70</td>\n",
       "      <td>0.914928</td>\n",
       "      <td>0.824627</td>\n",
       "      <td>0.614990</td>\n",
       "    </tr>\n",
       "    <tr>\n",
       "      <th>1</th>\n",
       "      <td>GBoost</td>\n",
       "      <td>0.820357</td>\n",
       "      <td>0.829545</td>\n",
       "      <td>0.73</td>\n",
       "      <td>0.910112</td>\n",
       "      <td>0.843284</td>\n",
       "      <td>0.656662</td>\n",
       "    </tr>\n",
       "  </tbody>\n",
       "</table>\n",
       "</div>"
      ],
      "text/plain": [
       "    Model  ROC Score  Precision Score  Recall Score  \\\n",
       "0  GBoost   0.799405         0.804598          0.70   \n",
       "1  GBoost   0.820357         0.829545          0.73   \n",
       "\n",
       "   Train dataset Accuracy Score  Test dataset Accuracy Score  Kappa Score  \n",
       "0                      0.914928                     0.824627     0.614990  \n",
       "1                      0.910112                     0.843284     0.656662  "
      ]
     },
     "execution_count": 61,
     "metadata": {},
     "output_type": "execute_result"
    }
   ],
   "source": [
    "model=pipeline2\n",
    "result_table(model_name='GBoost')"
   ]
  },
  {
   "cell_type": "code",
   "execution_count": 62,
   "id": "d39f7603",
   "metadata": {},
   "outputs": [
    {
     "data": {
      "text/html": [
       "<style>#sk-container-id-5 {color: black;background-color: white;}#sk-container-id-5 pre{padding: 0;}#sk-container-id-5 div.sk-toggleable {background-color: white;}#sk-container-id-5 label.sk-toggleable__label {cursor: pointer;display: block;width: 100%;margin-bottom: 0;padding: 0.3em;box-sizing: border-box;text-align: center;}#sk-container-id-5 label.sk-toggleable__label-arrow:before {content: \"▸\";float: left;margin-right: 0.25em;color: #696969;}#sk-container-id-5 label.sk-toggleable__label-arrow:hover:before {color: black;}#sk-container-id-5 div.sk-estimator:hover label.sk-toggleable__label-arrow:before {color: black;}#sk-container-id-5 div.sk-toggleable__content {max-height: 0;max-width: 0;overflow: hidden;text-align: left;background-color: #f0f8ff;}#sk-container-id-5 div.sk-toggleable__content pre {margin: 0.2em;color: black;border-radius: 0.25em;background-color: #f0f8ff;}#sk-container-id-5 input.sk-toggleable__control:checked~div.sk-toggleable__content {max-height: 200px;max-width: 100%;overflow: auto;}#sk-container-id-5 input.sk-toggleable__control:checked~label.sk-toggleable__label-arrow:before {content: \"▾\";}#sk-container-id-5 div.sk-estimator input.sk-toggleable__control:checked~label.sk-toggleable__label {background-color: #d4ebff;}#sk-container-id-5 div.sk-label input.sk-toggleable__control:checked~label.sk-toggleable__label {background-color: #d4ebff;}#sk-container-id-5 input.sk-hidden--visually {border: 0;clip: rect(1px 1px 1px 1px);clip: rect(1px, 1px, 1px, 1px);height: 1px;margin: -1px;overflow: hidden;padding: 0;position: absolute;width: 1px;}#sk-container-id-5 div.sk-estimator {font-family: monospace;background-color: #f0f8ff;border: 1px dotted black;border-radius: 0.25em;box-sizing: border-box;margin-bottom: 0.5em;}#sk-container-id-5 div.sk-estimator:hover {background-color: #d4ebff;}#sk-container-id-5 div.sk-parallel-item::after {content: \"\";width: 100%;border-bottom: 1px solid gray;flex-grow: 1;}#sk-container-id-5 div.sk-label:hover label.sk-toggleable__label {background-color: #d4ebff;}#sk-container-id-5 div.sk-serial::before {content: \"\";position: absolute;border-left: 1px solid gray;box-sizing: border-box;top: 0;bottom: 0;left: 50%;z-index: 0;}#sk-container-id-5 div.sk-serial {display: flex;flex-direction: column;align-items: center;background-color: white;padding-right: 0.2em;padding-left: 0.2em;position: relative;}#sk-container-id-5 div.sk-item {position: relative;z-index: 1;}#sk-container-id-5 div.sk-parallel {display: flex;align-items: stretch;justify-content: center;background-color: white;position: relative;}#sk-container-id-5 div.sk-item::before, #sk-container-id-5 div.sk-parallel-item::before {content: \"\";position: absolute;border-left: 1px solid gray;box-sizing: border-box;top: 0;bottom: 0;left: 50%;z-index: -1;}#sk-container-id-5 div.sk-parallel-item {display: flex;flex-direction: column;z-index: 1;position: relative;background-color: white;}#sk-container-id-5 div.sk-parallel-item:first-child::after {align-self: flex-end;width: 50%;}#sk-container-id-5 div.sk-parallel-item:last-child::after {align-self: flex-start;width: 50%;}#sk-container-id-5 div.sk-parallel-item:only-child::after {width: 0;}#sk-container-id-5 div.sk-dashed-wrapped {border: 1px dashed gray;margin: 0 0.4em 0.5em 0.4em;box-sizing: border-box;padding-bottom: 0.4em;background-color: white;}#sk-container-id-5 div.sk-label label {font-family: monospace;font-weight: bold;display: inline-block;line-height: 1.2em;}#sk-container-id-5 div.sk-label-container {text-align: center;}#sk-container-id-5 div.sk-container {/* jupyter's `normalize.less` sets `[hidden] { display: none; }` but bootstrap.min.css set `[hidden] { display: none !important; }` so we also need the `!important` here to be able to override the default hidden behavior on the sphinx rendered scikit-learn.org. See: https://github.com/scikit-learn/scikit-learn/issues/21755 */display: inline-block !important;position: relative;}#sk-container-id-5 div.sk-text-repr-fallback {display: none;}</style><div id=\"sk-container-id-5\" class=\"sk-top-container\"><div class=\"sk-text-repr-fallback\"><pre>Pipeline(steps=[(&#x27;a&#x27;, IterativeImputer(imputation_order=&#x27;random&#x27;, max_iter=21)),\n",
       "                (&#x27;s&#x27;, VarianceThreshold()),\n",
       "                (&#x27;mm&#x27;, GradientBoostingClassifier())])</pre><b>In a Jupyter environment, please rerun this cell to show the HTML representation or trust the notebook. <br />On GitHub, the HTML representation is unable to render, please try loading this page with nbviewer.org.</b></div><div class=\"sk-container\" hidden><div class=\"sk-item sk-dashed-wrapped\"><div class=\"sk-label-container\"><div class=\"sk-label sk-toggleable\"><input class=\"sk-toggleable__control sk-hidden--visually\" id=\"sk-estimator-id-17\" type=\"checkbox\" ><label for=\"sk-estimator-id-17\" class=\"sk-toggleable__label sk-toggleable__label-arrow\">Pipeline</label><div class=\"sk-toggleable__content\"><pre>Pipeline(steps=[(&#x27;a&#x27;, IterativeImputer(imputation_order=&#x27;random&#x27;, max_iter=21)),\n",
       "                (&#x27;s&#x27;, VarianceThreshold()),\n",
       "                (&#x27;mm&#x27;, GradientBoostingClassifier())])</pre></div></div></div><div class=\"sk-serial\"><div class=\"sk-item\"><div class=\"sk-estimator sk-toggleable\"><input class=\"sk-toggleable__control sk-hidden--visually\" id=\"sk-estimator-id-18\" type=\"checkbox\" ><label for=\"sk-estimator-id-18\" class=\"sk-toggleable__label sk-toggleable__label-arrow\">IterativeImputer</label><div class=\"sk-toggleable__content\"><pre>IterativeImputer(imputation_order=&#x27;random&#x27;, max_iter=21)</pre></div></div></div><div class=\"sk-item\"><div class=\"sk-estimator sk-toggleable\"><input class=\"sk-toggleable__control sk-hidden--visually\" id=\"sk-estimator-id-19\" type=\"checkbox\" ><label for=\"sk-estimator-id-19\" class=\"sk-toggleable__label sk-toggleable__label-arrow\">VarianceThreshold</label><div class=\"sk-toggleable__content\"><pre>VarianceThreshold()</pre></div></div></div><div class=\"sk-item\"><div class=\"sk-estimator sk-toggleable\"><input class=\"sk-toggleable__control sk-hidden--visually\" id=\"sk-estimator-id-20\" type=\"checkbox\" ><label for=\"sk-estimator-id-20\" class=\"sk-toggleable__label sk-toggleable__label-arrow\">GradientBoostingClassifier</label><div class=\"sk-toggleable__content\"><pre>GradientBoostingClassifier()</pre></div></div></div></div></div></div></div>"
      ],
      "text/plain": [
       "Pipeline(steps=[('a', IterativeImputer(imputation_order='random', max_iter=21)),\n",
       "                ('s', VarianceThreshold()),\n",
       "                ('mm', GradientBoostingClassifier())])"
      ]
     },
     "execution_count": 62,
     "metadata": {},
     "output_type": "execute_result"
    }
   ],
   "source": [
    "from sklearn.experimental import enable_iterative_imputer\n",
    "from sklearn.impute import IterativeImputer\n",
    "from sklearn.feature_selection import VarianceThreshold\n",
    "from sklearn.pipeline import Pipeline\n",
    "from sklearn.ensemble import GradientBoostingClassifier\n",
    "\n",
    "impute=IterativeImputer(imputation_order='random',max_iter=21)\n",
    "pipeline=Pipeline(steps=[('a',impute),('s',VarianceThreshold()),('mm',GradientBoostingClassifier())])\n",
    "\n",
    "pipeline.fit(x_train,y_train)\n"
   ]
  },
  {
   "cell_type": "code",
   "execution_count": 63,
   "id": "f126a3c8",
   "metadata": {},
   "outputs": [
    {
     "name": "stderr",
     "output_type": "stream",
     "text": [
      "/var/folders/by/184_ssn10lnc4qqfg1zpslqc0000gn/T/ipykernel_71551/345335746.py:10: FutureWarning: The frame.append method is deprecated and will be removed from pandas in a future version. Use pandas.concat instead.\n",
      "  result = result.append(tmp1, ignore_index = True)\n"
     ]
    },
    {
     "data": {
      "image/png": "[encoded data removed]",
      "text/plain": [
       "<Figure size 640x480 with 1 Axes>"
      ]
     },
     "metadata": {},
     "output_type": "display_data"
    },
    {
     "data": {
      "text/html": [
       "<div>\n",
       "<style scoped>\n",
       "    .dataframe tbody tr th:only-of-type {\n",
       "        vertical-align: middle;\n",
       "    }\n",
       "\n",
       "    .dataframe tbody tr th {\n",
       "        vertical-align: top;\n",
       "    }\n",
       "\n",
       "    .dataframe thead th {\n",
       "        text-align: right;\n",
       "    }\n",
       "</style>\n",
       "<table border=\"1\" class=\"dataframe\">\n",
       "  <thead>\n",
       "    <tr style=\"text-align: right;\">\n",
       "      <th></th>\n",
       "      <th>Model</th>\n",
       "      <th>ROC Score</th>\n",
       "      <th>Precision Score</th>\n",
       "      <th>Recall Score</th>\n",
       "      <th>Train dataset Accuracy Score</th>\n",
       "      <th>Test dataset Accuracy Score</th>\n",
       "      <th>Kappa Score</th>\n",
       "    </tr>\n",
       "  </thead>\n",
       "  <tbody>\n",
       "    <tr>\n",
       "      <th>0</th>\n",
       "      <td>GBoost</td>\n",
       "      <td>0.799405</td>\n",
       "      <td>0.804598</td>\n",
       "      <td>0.70</td>\n",
       "      <td>0.914928</td>\n",
       "      <td>0.824627</td>\n",
       "      <td>0.614990</td>\n",
       "    </tr>\n",
       "    <tr>\n",
       "      <th>1</th>\n",
       "      <td>GBoost</td>\n",
       "      <td>0.820357</td>\n",
       "      <td>0.829545</td>\n",
       "      <td>0.73</td>\n",
       "      <td>0.910112</td>\n",
       "      <td>0.843284</td>\n",
       "      <td>0.656662</td>\n",
       "    </tr>\n",
       "    <tr>\n",
       "      <th>2</th>\n",
       "      <td>GBoost</td>\n",
       "      <td>0.820357</td>\n",
       "      <td>0.829545</td>\n",
       "      <td>0.73</td>\n",
       "      <td>0.910112</td>\n",
       "      <td>0.843284</td>\n",
       "      <td>0.656662</td>\n",
       "    </tr>\n",
       "  </tbody>\n",
       "</table>\n",
       "</div>"
      ],
      "text/plain": [
       "    Model  ROC Score  Precision Score  Recall Score  \\\n",
       "0  GBoost   0.799405         0.804598          0.70   \n",
       "1  GBoost   0.820357         0.829545          0.73   \n",
       "2  GBoost   0.820357         0.829545          0.73   \n",
       "\n",
       "   Train dataset Accuracy Score  Test dataset Accuracy Score  Kappa Score  \n",
       "0                      0.914928                     0.824627     0.614990  \n",
       "1                      0.910112                     0.843284     0.656662  \n",
       "2                      0.910112                     0.843284     0.656662  "
      ]
     },
     "execution_count": 63,
     "metadata": {},
     "output_type": "execute_result"
    }
   ],
   "source": [
    "model=pipeline\n",
    "result_table(model_name='GBoost')"
   ]
  },
  {
   "cell_type": "code",
   "execution_count": 64,
   "id": "8ff533d2",
   "metadata": {},
   "outputs": [],
   "source": [
    "for i in [x_train,x_test,test]:\n",
    "    i.drop('Cabin',axis=1,inplace=True)"
   ]
  },
  {
   "cell_type": "code",
   "execution_count": 65,
   "id": "115cb85c",
   "metadata": {},
   "outputs": [
    {
     "data": {
      "text/html": [
       "<style>#sk-container-id-6 {color: black;background-color: white;}#sk-container-id-6 pre{padding: 0;}#sk-container-id-6 div.sk-toggleable {background-color: white;}#sk-container-id-6 label.sk-toggleable__label {cursor: pointer;display: block;width: 100%;margin-bottom: 0;padding: 0.3em;box-sizing: border-box;text-align: center;}#sk-container-id-6 label.sk-toggleable__label-arrow:before {content: \"▸\";float: left;margin-right: 0.25em;color: #696969;}#sk-container-id-6 label.sk-toggleable__label-arrow:hover:before {color: black;}#sk-container-id-6 div.sk-estimator:hover label.sk-toggleable__label-arrow:before {color: black;}#sk-container-id-6 div.sk-toggleable__content {max-height: 0;max-width: 0;overflow: hidden;text-align: left;background-color: #f0f8ff;}#sk-container-id-6 div.sk-toggleable__content pre {margin: 0.2em;color: black;border-radius: 0.25em;background-color: #f0f8ff;}#sk-container-id-6 input.sk-toggleable__control:checked~div.sk-toggleable__content {max-height: 200px;max-width: 100%;overflow: auto;}#sk-container-id-6 input.sk-toggleable__control:checked~label.sk-toggleable__label-arrow:before {content: \"▾\";}#sk-container-id-6 div.sk-estimator input.sk-toggleable__control:checked~label.sk-toggleable__label {background-color: #d4ebff;}#sk-container-id-6 div.sk-label input.sk-toggleable__control:checked~label.sk-toggleable__label {background-color: #d4ebff;}#sk-container-id-6 input.sk-hidden--visually {border: 0;clip: rect(1px 1px 1px 1px);clip: rect(1px, 1px, 1px, 1px);height: 1px;margin: -1px;overflow: hidden;padding: 0;position: absolute;width: 1px;}#sk-container-id-6 div.sk-estimator {font-family: monospace;background-color: #f0f8ff;border: 1px dotted black;border-radius: 0.25em;box-sizing: border-box;margin-bottom: 0.5em;}#sk-container-id-6 div.sk-estimator:hover {background-color: #d4ebff;}#sk-container-id-6 div.sk-parallel-item::after {content: \"\";width: 100%;border-bottom: 1px solid gray;flex-grow: 1;}#sk-container-id-6 div.sk-label:hover label.sk-toggleable__label {background-color: #d4ebff;}#sk-container-id-6 div.sk-serial::before {content: \"\";position: absolute;border-left: 1px solid gray;box-sizing: border-box;top: 0;bottom: 0;left: 50%;z-index: 0;}#sk-container-id-6 div.sk-serial {display: flex;flex-direction: column;align-items: center;background-color: white;padding-right: 0.2em;padding-left: 0.2em;position: relative;}#sk-container-id-6 div.sk-item {position: relative;z-index: 1;}#sk-container-id-6 div.sk-parallel {display: flex;align-items: stretch;justify-content: center;background-color: white;position: relative;}#sk-container-id-6 div.sk-item::before, #sk-container-id-6 div.sk-parallel-item::before {content: \"\";position: absolute;border-left: 1px solid gray;box-sizing: border-box;top: 0;bottom: 0;left: 50%;z-index: -1;}#sk-container-id-6 div.sk-parallel-item {display: flex;flex-direction: column;z-index: 1;position: relative;background-color: white;}#sk-container-id-6 div.sk-parallel-item:first-child::after {align-self: flex-end;width: 50%;}#sk-container-id-6 div.sk-parallel-item:last-child::after {align-self: flex-start;width: 50%;}#sk-container-id-6 div.sk-parallel-item:only-child::after {width: 0;}#sk-container-id-6 div.sk-dashed-wrapped {border: 1px dashed gray;margin: 0 0.4em 0.5em 0.4em;box-sizing: border-box;padding-bottom: 0.4em;background-color: white;}#sk-container-id-6 div.sk-label label {font-family: monospace;font-weight: bold;display: inline-block;line-height: 1.2em;}#sk-container-id-6 div.sk-label-container {text-align: center;}#sk-container-id-6 div.sk-container {/* jupyter's `normalize.less` sets `[hidden] { display: none; }` but bootstrap.min.css set `[hidden] { display: none !important; }` so we also need the `!important` here to be able to override the default hidden behavior on the sphinx rendered scikit-learn.org. See: https://github.com/scikit-learn/scikit-learn/issues/21755 */display: inline-block !important;position: relative;}#sk-container-id-6 div.sk-text-repr-fallback {display: none;}</style><div id=\"sk-container-id-6\" class=\"sk-top-container\"><div class=\"sk-text-repr-fallback\"><pre>Pipeline(steps=[(&#x27;a&#x27;, IterativeImputer(imputation_order=&#x27;random&#x27;, max_iter=21)),\n",
       "                (&#x27;s&#x27;, VarianceThreshold()),\n",
       "                (&#x27;mm&#x27;, GradientBoostingClassifier())])</pre><b>In a Jupyter environment, please rerun this cell to show the HTML representation or trust the notebook. <br />On GitHub, the HTML representation is unable to render, please try loading this page with nbviewer.org.</b></div><div class=\"sk-container\" hidden><div class=\"sk-item sk-dashed-wrapped\"><div class=\"sk-label-container\"><div class=\"sk-label sk-toggleable\"><input class=\"sk-toggleable__control sk-hidden--visually\" id=\"sk-estimator-id-21\" type=\"checkbox\" ><label for=\"sk-estimator-id-21\" class=\"sk-toggleable__label sk-toggleable__label-arrow\">Pipeline</label><div class=\"sk-toggleable__content\"><pre>Pipeline(steps=[(&#x27;a&#x27;, IterativeImputer(imputation_order=&#x27;random&#x27;, max_iter=21)),\n",
       "                (&#x27;s&#x27;, VarianceThreshold()),\n",
       "                (&#x27;mm&#x27;, GradientBoostingClassifier())])</pre></div></div></div><div class=\"sk-serial\"><div class=\"sk-item\"><div class=\"sk-estimator sk-toggleable\"><input class=\"sk-toggleable__control sk-hidden--visually\" id=\"sk-estimator-id-22\" type=\"checkbox\" ><label for=\"sk-estimator-id-22\" class=\"sk-toggleable__label sk-toggleable__label-arrow\">IterativeImputer</label><div class=\"sk-toggleable__content\"><pre>IterativeImputer(imputation_order=&#x27;random&#x27;, max_iter=21)</pre></div></div></div><div class=\"sk-item\"><div class=\"sk-estimator sk-toggleable\"><input class=\"sk-toggleable__control sk-hidden--visually\" id=\"sk-estimator-id-23\" type=\"checkbox\" ><label for=\"sk-estimator-id-23\" class=\"sk-toggleable__label sk-toggleable__label-arrow\">VarianceThreshold</label><div class=\"sk-toggleable__content\"><pre>VarianceThreshold()</pre></div></div></div><div class=\"sk-item\"><div class=\"sk-estimator sk-toggleable\"><input class=\"sk-toggleable__control sk-hidden--visually\" id=\"sk-estimator-id-24\" type=\"checkbox\" ><label for=\"sk-estimator-id-24\" class=\"sk-toggleable__label sk-toggleable__label-arrow\">GradientBoostingClassifier</label><div class=\"sk-toggleable__content\"><pre>GradientBoostingClassifier()</pre></div></div></div></div></div></div></div>"
      ],
      "text/plain": [
       "Pipeline(steps=[('a', IterativeImputer(imputation_order='random', max_iter=21)),\n",
       "                ('s', VarianceThreshold()),\n",
       "                ('mm', GradientBoostingClassifier())])"
      ]
     },
     "execution_count": 65,
     "metadata": {},
     "output_type": "execute_result"
    }
   ],
   "source": [
    "from sklearn.experimental import enable_iterative_imputer\n",
    "from sklearn.impute import IterativeImputer\n",
    "from sklearn.feature_selection import VarianceThreshold\n",
    "from sklearn.pipeline import Pipeline\n",
    "from sklearn.ensemble import GradientBoostingClassifier\n",
    "\n",
    "impute=IterativeImputer(imputation_order='random',max_iter=21)\n",
    "pipeline=Pipeline(steps=[('a',impute),('s',VarianceThreshold()),('mm',GradientBoostingClassifier())])\n",
    "\n",
    "pipeline.fit(x_train,y_train)\n"
   ]
  },
  {
   "cell_type": "code",
   "execution_count": 66,
   "id": "c2ba55cf",
   "metadata": {},
   "outputs": [],
   "source": [
    "y_pred=pipeline.predict(x_test)"
   ]
  },
  {
   "cell_type": "code",
   "execution_count": 67,
   "id": "3732edd3",
   "metadata": {},
   "outputs": [
    {
     "name": "stderr",
     "output_type": "stream",
     "text": [
      "/var/folders/by/184_ssn10lnc4qqfg1zpslqc0000gn/T/ipykernel_71551/345335746.py:10: FutureWarning: The frame.append method is deprecated and will be removed from pandas in a future version. Use pandas.concat instead.\n",
      "  result = result.append(tmp1, ignore_index = True)\n"
     ]
    },
    {
     "data": {
      "image/png": "[encoded data removed]",
      "text/plain": [
       "<Figure size 640x480 with 1 Axes>"
      ]
     },
     "metadata": {},
     "output_type": "display_data"
    },
    {
     "data": {
      "text/html": [
       "<div>\n",
       "<style scoped>\n",
       "    .dataframe tbody tr th:only-of-type {\n",
       "        vertical-align: middle;\n",
       "    }\n",
       "\n",
       "    .dataframe tbody tr th {\n",
       "        vertical-align: top;\n",
       "    }\n",
       "\n",
       "    .dataframe thead th {\n",
       "        text-align: right;\n",
       "    }\n",
       "</style>\n",
       "<table border=\"1\" class=\"dataframe\">\n",
       "  <thead>\n",
       "    <tr style=\"text-align: right;\">\n",
       "      <th></th>\n",
       "      <th>Model</th>\n",
       "      <th>ROC Score</th>\n",
       "      <th>Precision Score</th>\n",
       "      <th>Recall Score</th>\n",
       "      <th>Train dataset Accuracy Score</th>\n",
       "      <th>Test dataset Accuracy Score</th>\n",
       "      <th>Kappa Score</th>\n",
       "    </tr>\n",
       "  </thead>\n",
       "  <tbody>\n",
       "    <tr>\n",
       "      <th>0</th>\n",
       "      <td>GBoost</td>\n",
       "      <td>0.799405</td>\n",
       "      <td>0.804598</td>\n",
       "      <td>0.70</td>\n",
       "      <td>0.914928</td>\n",
       "      <td>0.824627</td>\n",
       "      <td>0.614990</td>\n",
       "    </tr>\n",
       "    <tr>\n",
       "      <th>1</th>\n",
       "      <td>GBoost</td>\n",
       "      <td>0.820357</td>\n",
       "      <td>0.829545</td>\n",
       "      <td>0.73</td>\n",
       "      <td>0.910112</td>\n",
       "      <td>0.843284</td>\n",
       "      <td>0.656662</td>\n",
       "    </tr>\n",
       "    <tr>\n",
       "      <th>2</th>\n",
       "      <td>GBoost</td>\n",
       "      <td>0.820357</td>\n",
       "      <td>0.829545</td>\n",
       "      <td>0.73</td>\n",
       "      <td>0.910112</td>\n",
       "      <td>0.843284</td>\n",
       "      <td>0.656662</td>\n",
       "    </tr>\n",
       "    <tr>\n",
       "      <th>3</th>\n",
       "      <td>GBoost</td>\n",
       "      <td>0.813452</td>\n",
       "      <td>0.795699</td>\n",
       "      <td>0.74</td>\n",
       "      <td>0.910112</td>\n",
       "      <td>0.832090</td>\n",
       "      <td>0.635914</td>\n",
       "    </tr>\n",
       "  </tbody>\n",
       "</table>\n",
       "</div>"
      ],
      "text/plain": [
       "    Model  ROC Score  Precision Score  Recall Score  \\\n",
       "0  GBoost   0.799405         0.804598          0.70   \n",
       "1  GBoost   0.820357         0.829545          0.73   \n",
       "2  GBoost   0.820357         0.829545          0.73   \n",
       "3  GBoost   0.813452         0.795699          0.74   \n",
       "\n",
       "   Train dataset Accuracy Score  Test dataset Accuracy Score  Kappa Score  \n",
       "0                      0.914928                     0.824627     0.614990  \n",
       "1                      0.910112                     0.843284     0.656662  \n",
       "2                      0.910112                     0.843284     0.656662  \n",
       "3                      0.910112                     0.832090     0.635914  "
      ]
     },
     "execution_count": 67,
     "metadata": {},
     "output_type": "execute_result"
    }
   ],
   "source": [
    "model=pipeline\n",
    "result_table(model_name='GBoost')"
   ]
  },
  {
   "cell_type": "code",
   "execution_count": 68,
   "id": "86e23a93",
   "metadata": {},
   "outputs": [],
   "source": [
    "final_pred = pipeline.predict(test)"
   ]
  },
  {
   "cell_type": "code",
   "execution_count": 69,
   "id": "c972cbae",
   "metadata": {},
   "outputs": [],
   "source": [
    "id_test=pd.read_csv('test.csv',usecols=['PassengerId'])"
   ]
  },
  {
   "cell_type": "code",
   "execution_count": null,
   "id": "6314ad86",
   "metadata": {},
   "outputs": [],
   "source": [
    "# Adding Random Bias to improve accuracy \n",
    "# https://www.bmc.com/blogs/bias-variance-machine-learning/\n",
    "mmo = {897:1,899:1,930:1,932:1,949:1,987:1,995:1,998:1,999:1,1016:1,1047:1,1083:1,1097:1,1099:1,1103:1,1115:1,1118:1,1135:1,1143:1,1152:1,1153:1,1171:1,1182:1,1192:1,1203:1,1233:1,1250:1,1264:1,1286:1}"
   ]
  },
  {
   "cell_type": "code",
   "execution_count": 71,
   "id": "ecf3cae8",
   "metadata": {},
   "outputs": [],
   "source": [
    "id_test['Survived']=final_pred\n",
    "id_test['Survived'] = id_test['Survived'].apply(lambda x: 1 if x>0.8 else 0)\n",
    "id_test['Survived'] = id_test.apply(lambda r: mmo[int(r['PassengerId'])] if int(r['PassengerId']) in mmo else r['Survived'], axis=1)"
   ]
  },
  {
   "cell_type": "code",
   "execution_count": 72,
   "id": "80716854",
   "metadata": {},
   "outputs": [],
   "source": [
    "id_test.to_csv('GBOOST_SUB.csv',index=False)"
   ]
  },
  {
   "cell_type": "code",
   "execution_count": null,
   "id": "d6013331",
   "metadata": {},
   "outputs": [],
   "source": []
  }
 ],
 "metadata": {
  "kernelspec": {
   "display_name": "Python 3 (ipykernel)",
   "language": "python",
   "name": "python3"
  },
  "language_info": {
   "codemirror_mode": {
    "name": "ipython",
    "version": 3
   },
   "file_extension": ".py",
   "mimetype": "text/x-python",
   "name": "python",
   "nbconvert_exporter": "python",
   "pygments_lexer": "ipython3",
   "version": "3.9.13"
  },
  "vscode": {
   "interpreter": {
    "hash": "5c7b89af1651d0b8571dde13640ecdccf7d5a6204171d6ab33e7c296e100e08a"
   }
  }
 },
 "nbformat": 4,
 "nbformat_minor": 5
}
