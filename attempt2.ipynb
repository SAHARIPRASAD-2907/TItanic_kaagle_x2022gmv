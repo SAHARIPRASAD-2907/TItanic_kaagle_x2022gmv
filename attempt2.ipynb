{
 "cells": [
  {
   "cell_type": "markdown",
   "id": "d54496c2",
   "metadata": {},
   "source": [
    "#### Name: HARIPRASAD SIVAPATHAM ANAND\n",
    "#### Student Number: 202205341\n",
    "#### Email: x2022gmv@gmail.com\n",
    "#### Accuracy Achieved: 77.0333%"
   ]
  },
  {
   "cell_type": "code",
   "execution_count": 339,
   "id": "6d9f307b",
   "metadata": {},
   "outputs": [],
   "source": [
    "import pandas as pd\n",
    "import numpy as np\n",
    "import matplotlib.pyplot as plt\n",
    "import pickle"
   ]
  },
  {
   "attachments": {},
   "cell_type": "markdown",
   "id": "3757b4fb",
   "metadata": {},
   "source": [
    "## Dataset Description\n",
    "\n",
    "Variable Definition Key\n",
    "\n",
    "survival: Survival 0 = No, 1 = Yes\n",
    "\n",
    "pclass Ticket class 1 = 1st, 2 = 2nd, 3 = 3rd\n",
    "\n",
    "sex Male or Female\n",
    "\n",
    "Age Age in years\n",
    "\n",
    "sibsp # of siblings / spouses aboard the Titanic\n",
    "\n",
    "parch # of parents / children aboard the Titanic\n",
    "\n",
    "ticket Ticket number\n",
    "\n",
    "fare Passenger fare\n",
    "\n",
    "cabin Cabin number\n",
    "\n",
    "embarked Port of Embarkation C = Cherbourg, Q = Queenstown, S = Southampton\n",
    "\n",
    "Variable Notes pclass: A proxy for socio-economic status (SES) 1st = Upper 2nd = Middle 3rd = Lower\n",
    "\n",
    "age: Age is fractional if less than 1. If the age is estimated, is it in the form of xx.5\n",
    "\n",
    "sibsp: The dataset defines family relations in this way...\n",
    "\n",
    "Sibling = brother, sister, stepbrother, stepsister\n",
    "\n",
    "Spouse = husband, wife (mistresses and fiancés were ignored)\n",
    "\n",
    "parch: The dataset defines family relations in this way...\n",
    "\n",
    "Parent = mother, father\n",
    "\n",
    "Child = daughter, son, stepdaughter, stepson\n",
    "\n",
    "Some children traveled only with a nanny, therefore parch=0 for them"
   ]
  },
  {
   "cell_type": "code",
   "execution_count": 340,
   "id": "aca8052e",
   "metadata": {},
   "outputs": [],
   "source": [
    "dataFrame = pd.read_csv(\"./train.csv\")"
   ]
  },
  {
   "cell_type": "code",
   "execution_count": 341,
   "id": "ecca5ffe",
   "metadata": {},
   "outputs": [],
   "source": [
    "def get_data_info(dataFrame):\n",
    "    print(dataFrame.info())"
   ]
  },
  {
   "cell_type": "code",
   "execution_count": 342,
   "id": "2b75bc49",
   "metadata": {},
   "outputs": [
    {
     "name": "stdout",
     "output_type": "stream",
     "text": [
      "<class 'pandas.core.frame.DataFrame'>\n",
      "RangeIndex: 891 entries, 0 to 890\n",
      "Data columns (total 12 columns):\n",
      " #   Column       Non-Null Count  Dtype  \n",
      "---  ------       --------------  -----  \n",
      " 0   PassengerId  891 non-null    int64  \n",
      " 1   Survived     891 non-null    int64  \n",
      " 2   Pclass       891 non-null    int64  \n",
      " 3   Name         891 non-null    object \n",
      " 4   Sex          891 non-null    object \n",
      " 5   Age          714 non-null    float64\n",
      " 6   SibSp        891 non-null    int64  \n",
      " 7   Parch        891 non-null    int64  \n",
      " 8   Ticket       891 non-null    object \n",
      " 9   Fare         891 non-null    float64\n",
      " 10  Cabin        204 non-null    object \n",
      " 11  Embarked     889 non-null    object \n",
      "dtypes: float64(2), int64(5), object(5)\n",
      "memory usage: 83.7+ KB\n",
      "None\n"
     ]
    }
   ],
   "source": [
    "get_data_info(dataFrame)"
   ]
  },
  {
   "cell_type": "code",
   "execution_count": 343,
   "id": "efc93b1b",
   "metadata": {},
   "outputs": [
    {
     "name": "stdout",
     "output_type": "stream",
     "text": [
      "Survived [0 1]\n",
      "Pclass [3 1 2]\n",
      "Sex ['male' 'female']\n",
      "SibSp [1 0 3 4 2 5 8]\n",
      "Parch [0 1 2 5 3 4 6]\n",
      "Embarked ['S' 'C' 'Q' nan]\n"
     ]
    }
   ],
   "source": [
    "# Check Values in non unique columns\n",
    "for i in dataFrame:\n",
    "    if(dataFrame[i].is_unique == False and len(dataFrame[i].unique())<10):\n",
    "        print(i,dataFrame[i].unique())"
   ]
  },
  {
   "attachments": {},
   "cell_type": "markdown",
   "id": "03e58a94",
   "metadata": {},
   "source": [
    "# Understanding the data \n",
    "\n",
    "In the following dataset the following columns are unique\n",
    "- PassenderId, Name\n",
    "\n",
    "The following are categorical variables with less than 10 features\n",
    "- Survived, Pclass, Sex, SibSp, Parch, Embarked\n",
    "\n",
    "The following are numerical \n",
    "- Age, Fare\n",
    "\n",
    "**The Cabin**\n",
    "- The cabin column has more than 10 categories, but it has more than 50% data missing hence we can drop the column\n",
    "\n",
    "**Survived**\n",
    "- We don't have to any changes to survived as survived is already in binary format"
   ]
  },
  {
   "cell_type": "code",
   "execution_count": 344,
   "id": "32c86b7d",
   "metadata": {},
   "outputs": [],
   "source": [
    "# Dropping Cabin Column\n",
    "dataFrame = dataFrame.drop(\"Cabin\",axis=1)"
   ]
  },
  {
   "cell_type": "code",
   "execution_count": 345,
   "id": "c85f0660",
   "metadata": {},
   "outputs": [
    {
     "name": "stdout",
     "output_type": "stream",
     "text": [
      "<class 'pandas.core.frame.DataFrame'>\n",
      "RangeIndex: 891 entries, 0 to 890\n",
      "Data columns (total 11 columns):\n",
      " #   Column       Non-Null Count  Dtype  \n",
      "---  ------       --------------  -----  \n",
      " 0   PassengerId  891 non-null    int64  \n",
      " 1   Survived     891 non-null    int64  \n",
      " 2   Pclass       891 non-null    int64  \n",
      " 3   Name         891 non-null    object \n",
      " 4   Sex          891 non-null    object \n",
      " 5   Age          714 non-null    float64\n",
      " 6   SibSp        891 non-null    int64  \n",
      " 7   Parch        891 non-null    int64  \n",
      " 8   Ticket       891 non-null    object \n",
      " 9   Fare         891 non-null    float64\n",
      " 10  Embarked     889 non-null    object \n",
      "dtypes: float64(2), int64(5), object(4)\n",
      "memory usage: 76.7+ KB\n"
     ]
    }
   ],
   "source": [
    "dataFrame.info()"
   ]
  },
  {
   "cell_type": "markdown",
   "id": "83eb61cf",
   "metadata": {},
   "source": [
    "## Handel null values"
   ]
  },
  {
   "cell_type": "code",
   "execution_count": 346,
   "id": "2f4560f8",
   "metadata": {},
   "outputs": [],
   "source": [
    "# As we need all the data to extract maximum information we wil do the following \n",
    "\n",
    "# Replace age with mean as age is a numerical data type\n",
    "age_mean = dataFrame[\"Age\"].mean()\n",
    "dataFrame.Age =  dataFrame.Age.fillna(age_mean)\n",
    "# Replace Embarked with mode or maximum value \n",
    "count_of_embarked = dataFrame.Embarked.value_counts().idxmax()\n",
    "dataFrame.Embarked = dataFrame.Embarked.fillna(count_of_embarked)\n",
    "# We can remove passengerId,name as all the values are unique \n",
    "dataFrame = dataFrame.drop([\"PassengerId\",\"Name\"],axis=1)\n",
    "# We can also drop Ticket as Tickets as most of the values as 681 values are unique and encoding will increase the dimensions\n",
    "dataFrame = dataFrame.drop([\"Ticket\"],axis=1)"
   ]
  },
  {
   "cell_type": "code",
   "execution_count": 347,
   "id": "62f2a3bf",
   "metadata": {},
   "outputs": [
    {
     "name": "stdout",
     "output_type": "stream",
     "text": [
      "<class 'pandas.core.frame.DataFrame'>\n",
      "RangeIndex: 891 entries, 0 to 890\n",
      "Data columns (total 8 columns):\n",
      " #   Column    Non-Null Count  Dtype  \n",
      "---  ------    --------------  -----  \n",
      " 0   Survived  891 non-null    int64  \n",
      " 1   Pclass    891 non-null    int64  \n",
      " 2   Sex       891 non-null    object \n",
      " 3   Age       891 non-null    float64\n",
      " 4   SibSp     891 non-null    int64  \n",
      " 5   Parch     891 non-null    int64  \n",
      " 6   Fare      891 non-null    float64\n",
      " 7   Embarked  891 non-null    object \n",
      "dtypes: float64(2), int64(4), object(2)\n",
      "memory usage: 55.8+ KB\n",
      "None\n"
     ]
    }
   ],
   "source": [
    "get_data_info(dataFrame)\n",
    "# All the Missing values have been handel"
   ]
  },
  {
   "cell_type": "markdown",
   "id": "0e497658",
   "metadata": {},
   "source": [
    "# Feature Engineering"
   ]
  },
  {
   "cell_type": "code",
   "execution_count": 348,
   "id": "814023ad",
   "metadata": {},
   "outputs": [],
   "source": [
    "# https://triangleinequality.wordpress.com/2013/09/08/basic-feature-engineering-with-the-titanic-data/\n",
    "\n",
    "# As Parch and SibSp basically means number of parents and number of sibillings we can combine both features and make it into a single column\n",
    "def combine_parch_sibsp(dataFrame,parch,sibsp):\n",
    "    new_column_name = \"total_members\"\n",
    "    dataFrame[\"total_members\"] = parch+sibsp\n",
    "    return dataFrame;"
   ]
  },
  {
   "cell_type": "code",
   "execution_count": 349,
   "id": "3ecd6399",
   "metadata": {},
   "outputs": [],
   "source": [
    "dataFrame = combine_parch_sibsp(dataFrame,dataFrame.Parch,dataFrame.SibSp)"
   ]
  },
  {
   "cell_type": "code",
   "execution_count": 350,
   "id": "02b2cbe7",
   "metadata": {},
   "outputs": [
    {
     "name": "stdout",
     "output_type": "stream",
     "text": [
      "<class 'pandas.core.frame.DataFrame'>\n",
      "RangeIndex: 891 entries, 0 to 890\n",
      "Data columns (total 9 columns):\n",
      " #   Column         Non-Null Count  Dtype  \n",
      "---  ------         --------------  -----  \n",
      " 0   Survived       891 non-null    int64  \n",
      " 1   Pclass         891 non-null    int64  \n",
      " 2   Sex            891 non-null    object \n",
      " 3   Age            891 non-null    float64\n",
      " 4   SibSp          891 non-null    int64  \n",
      " 5   Parch          891 non-null    int64  \n",
      " 6   Fare           891 non-null    float64\n",
      " 7   Embarked       891 non-null    object \n",
      " 8   total_members  891 non-null    int64  \n",
      "dtypes: float64(2), int64(5), object(2)\n",
      "memory usage: 62.8+ KB\n",
      "None\n"
     ]
    }
   ],
   "source": [
    "get_data_info(dataFrame)\n",
    "# We have reduced the number of dimensions from 10 to 8"
   ]
  },
  {
   "cell_type": "code",
   "execution_count": 351,
   "id": "f07eeb40",
   "metadata": {},
   "outputs": [],
   "source": [
    "# Using Feature Engineering we will convert Age and Fare to Catagorical Variables"
   ]
  },
  {
   "cell_type": "code",
   "execution_count": 352,
   "id": "bdf353a1",
   "metadata": {},
   "outputs": [
    {
     "data": {
      "text/html": [
       "<div>\n",
       "<style scoped>\n",
       "    .dataframe tbody tr th:only-of-type {\n",
       "        vertical-align: middle;\n",
       "    }\n",
       "\n",
       "    .dataframe tbody tr th {\n",
       "        vertical-align: top;\n",
       "    }\n",
       "\n",
       "    .dataframe thead th {\n",
       "        text-align: right;\n",
       "    }\n",
       "</style>\n",
       "<table border=\"1\" class=\"dataframe\">\n",
       "  <thead>\n",
       "    <tr style=\"text-align: right;\">\n",
       "      <th></th>\n",
       "      <th>Survived</th>\n",
       "      <th>Pclass</th>\n",
       "      <th>Age</th>\n",
       "      <th>SibSp</th>\n",
       "      <th>Parch</th>\n",
       "      <th>Fare</th>\n",
       "      <th>total_members</th>\n",
       "    </tr>\n",
       "  </thead>\n",
       "  <tbody>\n",
       "    <tr>\n",
       "      <th>count</th>\n",
       "      <td>891.000000</td>\n",
       "      <td>891.000000</td>\n",
       "      <td>891.000000</td>\n",
       "      <td>891.000000</td>\n",
       "      <td>891.000000</td>\n",
       "      <td>891.000000</td>\n",
       "      <td>891.000000</td>\n",
       "    </tr>\n",
       "    <tr>\n",
       "      <th>mean</th>\n",
       "      <td>0.383838</td>\n",
       "      <td>2.308642</td>\n",
       "      <td>29.699118</td>\n",
       "      <td>0.523008</td>\n",
       "      <td>0.381594</td>\n",
       "      <td>32.204208</td>\n",
       "      <td>0.904602</td>\n",
       "    </tr>\n",
       "    <tr>\n",
       "      <th>std</th>\n",
       "      <td>0.486592</td>\n",
       "      <td>0.836071</td>\n",
       "      <td>13.002015</td>\n",
       "      <td>1.102743</td>\n",
       "      <td>0.806057</td>\n",
       "      <td>49.693429</td>\n",
       "      <td>1.613459</td>\n",
       "    </tr>\n",
       "    <tr>\n",
       "      <th>min</th>\n",
       "      <td>0.000000</td>\n",
       "      <td>1.000000</td>\n",
       "      <td>0.420000</td>\n",
       "      <td>0.000000</td>\n",
       "      <td>0.000000</td>\n",
       "      <td>0.000000</td>\n",
       "      <td>0.000000</td>\n",
       "    </tr>\n",
       "    <tr>\n",
       "      <th>25%</th>\n",
       "      <td>0.000000</td>\n",
       "      <td>2.000000</td>\n",
       "      <td>22.000000</td>\n",
       "      <td>0.000000</td>\n",
       "      <td>0.000000</td>\n",
       "      <td>7.910400</td>\n",
       "      <td>0.000000</td>\n",
       "    </tr>\n",
       "    <tr>\n",
       "      <th>50%</th>\n",
       "      <td>0.000000</td>\n",
       "      <td>3.000000</td>\n",
       "      <td>29.699118</td>\n",
       "      <td>0.000000</td>\n",
       "      <td>0.000000</td>\n",
       "      <td>14.454200</td>\n",
       "      <td>0.000000</td>\n",
       "    </tr>\n",
       "    <tr>\n",
       "      <th>75%</th>\n",
       "      <td>1.000000</td>\n",
       "      <td>3.000000</td>\n",
       "      <td>35.000000</td>\n",
       "      <td>1.000000</td>\n",
       "      <td>0.000000</td>\n",
       "      <td>31.000000</td>\n",
       "      <td>1.000000</td>\n",
       "    </tr>\n",
       "    <tr>\n",
       "      <th>max</th>\n",
       "      <td>1.000000</td>\n",
       "      <td>3.000000</td>\n",
       "      <td>80.000000</td>\n",
       "      <td>8.000000</td>\n",
       "      <td>6.000000</td>\n",
       "      <td>512.329200</td>\n",
       "      <td>10.000000</td>\n",
       "    </tr>\n",
       "  </tbody>\n",
       "</table>\n",
       "</div>"
      ],
      "text/plain": [
       "         Survived      Pclass         Age       SibSp       Parch        Fare  \\\n",
       "count  891.000000  891.000000  891.000000  891.000000  891.000000  891.000000   \n",
       "mean     0.383838    2.308642   29.699118    0.523008    0.381594   32.204208   \n",
       "std      0.486592    0.836071   13.002015    1.102743    0.806057   49.693429   \n",
       "min      0.000000    1.000000    0.420000    0.000000    0.000000    0.000000   \n",
       "25%      0.000000    2.000000   22.000000    0.000000    0.000000    7.910400   \n",
       "50%      0.000000    3.000000   29.699118    0.000000    0.000000   14.454200   \n",
       "75%      1.000000    3.000000   35.000000    1.000000    0.000000   31.000000   \n",
       "max      1.000000    3.000000   80.000000    8.000000    6.000000  512.329200   \n",
       "\n",
       "       total_members  \n",
       "count     891.000000  \n",
       "mean        0.904602  \n",
       "std         1.613459  \n",
       "min         0.000000  \n",
       "25%         0.000000  \n",
       "50%         0.000000  \n",
       "75%         1.000000  \n",
       "max        10.000000  "
      ]
     },
     "execution_count": 352,
     "metadata": {},
     "output_type": "execute_result"
    }
   ],
   "source": [
    "dataFrame.describe()"
   ]
  },
  {
   "cell_type": "code",
   "execution_count": 353,
   "id": "c6a5d7ad",
   "metadata": {},
   "outputs": [],
   "source": [
    "# https://towardsdatascience.com/from-numerical-to-categorical-3252cf805ea2\n",
    "\n",
    "# Converting Numarical to catagoical objects\n",
    "\n",
    "# Based on Calculation \n",
    "    # Age can be divided into 6 catagories \n",
    "    # Fare can be into 10 catagories\n",
    "    # The following calculations were performed using \n",
    "        # Standard Deviation \n",
    "        # Maximum of column \n",
    "        # Minimum of column "
   ]
  },
  {
   "cell_type": "code",
   "execution_count": 354,
   "id": "c3386813",
   "metadata": {},
   "outputs": [],
   "source": [
    "# https://pandas.pydata.org/docs/reference/api/pandas.cut.html\n",
    "\n",
    "def age_to_category(dataFrame,column):\n",
    "    bin_edge = [0,13,26,39,52,65,80];\n",
    "    bin_labels = [\"Young\",\"Student\",\"Teenage\",\"Adult\",\"Senior\",\"Old\"]\n",
    "    dataFrame[\"AGE\"] = pd.cut(column,bin_edge,labels=bin_labels)\n",
    "    dataFrame = dataFrame.drop(\"Age\",axis=1)\n",
    "    return dataFrame;\n"
   ]
  },
  {
   "cell_type": "code",
   "execution_count": 355,
   "id": "bf5c7e5b",
   "metadata": {},
   "outputs": [],
   "source": [
    "dataFrame = age_to_category(dataFrame,dataFrame.Age)"
   ]
  },
  {
   "cell_type": "code",
   "execution_count": 356,
   "id": "b63a2b53",
   "metadata": {},
   "outputs": [],
   "source": [
    "# https://pandas.pydata.org/docs/reference/api/pandas.cut.html\n",
    "def fare_to_category(dataFrame,column):\n",
    "    bin_edge = [0,50,100,150,200,250,300,350,400,450,520];\n",
    "    bin_labels = [\"F1\",\"F2\",\"F3\",\"F4\",\"F5\",\"F6\",\"F7\",\"F8\",\"F9\",\"F10\"]\n",
    "    dataFrame[\"FARE\"] = pd.cut(column,bin_edge,labels=bin_labels);\n",
    "    dataFrame = dataFrame.drop(\"Fare\",axis=1)\n",
    "    return dataFrame"
   ]
  },
  {
   "cell_type": "code",
   "execution_count": 357,
   "id": "72b641bd",
   "metadata": {},
   "outputs": [],
   "source": [
    "dataFrame = fare_to_category(dataFrame,dataFrame.Fare)"
   ]
  },
  {
   "cell_type": "code",
   "execution_count": 358,
   "id": "8b3aa856",
   "metadata": {
    "scrolled": true
   },
   "outputs": [
    {
     "name": "stdout",
     "output_type": "stream",
     "text": [
      "<class 'pandas.core.frame.DataFrame'>\n",
      "RangeIndex: 891 entries, 0 to 890\n",
      "Data columns (total 9 columns):\n",
      " #   Column         Non-Null Count  Dtype   \n",
      "---  ------         --------------  -----   \n",
      " 0   Survived       891 non-null    int64   \n",
      " 1   Pclass         891 non-null    int64   \n",
      " 2   Sex            891 non-null    object  \n",
      " 3   SibSp          891 non-null    int64   \n",
      " 4   Parch          891 non-null    int64   \n",
      " 5   Embarked       891 non-null    object  \n",
      " 6   total_members  891 non-null    int64   \n",
      " 7   AGE            891 non-null    category\n",
      " 8   FARE           876 non-null    category\n",
      "dtypes: category(2), int64(5), object(2)\n",
      "memory usage: 51.2+ KB\n"
     ]
    }
   ],
   "source": [
    "dataFrame.info()"
   ]
  },
  {
   "cell_type": "code",
   "execution_count": 359,
   "id": "d97ac9f2",
   "metadata": {},
   "outputs": [],
   "source": [
    "# The following data is to be label encoded\n",
    "dataFrame = pd.get_dummies(dataFrame,columns=[\"Sex\",\"Embarked\",\"AGE\",\"FARE\"])"
   ]
  },
  {
   "cell_type": "code",
   "execution_count": 360,
   "id": "6e2d252b",
   "metadata": {},
   "outputs": [
    {
     "name": "stdout",
     "output_type": "stream",
     "text": [
      "<class 'pandas.core.frame.DataFrame'>\n",
      "RangeIndex: 891 entries, 0 to 890\n",
      "Data columns (total 26 columns):\n",
      " #   Column         Non-Null Count  Dtype\n",
      "---  ------         --------------  -----\n",
      " 0   Survived       891 non-null    int64\n",
      " 1   Pclass         891 non-null    int64\n",
      " 2   SibSp          891 non-null    int64\n",
      " 3   Parch          891 non-null    int64\n",
      " 4   total_members  891 non-null    int64\n",
      " 5   Sex_female     891 non-null    uint8\n",
      " 6   Sex_male       891 non-null    uint8\n",
      " 7   Embarked_C     891 non-null    uint8\n",
      " 8   Embarked_Q     891 non-null    uint8\n",
      " 9   Embarked_S     891 non-null    uint8\n",
      " 10  AGE_Young      891 non-null    uint8\n",
      " 11  AGE_Student    891 non-null    uint8\n",
      " 12  AGE_Teenage    891 non-null    uint8\n",
      " 13  AGE_Adult      891 non-null    uint8\n",
      " 14  AGE_Senior     891 non-null    uint8\n",
      " 15  AGE_Old        891 non-null    uint8\n",
      " 16  FARE_F1        891 non-null    uint8\n",
      " 17  FARE_F2        891 non-null    uint8\n",
      " 18  FARE_F3        891 non-null    uint8\n",
      " 19  FARE_F4        891 non-null    uint8\n",
      " 20  FARE_F5        891 non-null    uint8\n",
      " 21  FARE_F6        891 non-null    uint8\n",
      " 22  FARE_F7        891 non-null    uint8\n",
      " 23  FARE_F8        891 non-null    uint8\n",
      " 24  FARE_F9        891 non-null    uint8\n",
      " 25  FARE_F10       891 non-null    uint8\n",
      "dtypes: int64(5), uint8(21)\n",
      "memory usage: 53.2 KB\n",
      "None\n"
     ]
    }
   ],
   "source": [
    "get_data_info(dataFrame)"
   ]
  },
  {
   "cell_type": "code",
   "execution_count": 361,
   "id": "de87046b",
   "metadata": {},
   "outputs": [],
   "source": [
    "dataFrame.to_csv(\"clean_train.csv\")"
   ]
  },
  {
   "cell_type": "code",
   "execution_count": 362,
   "id": "1b746b68",
   "metadata": {},
   "outputs": [],
   "source": [
    "X = dataFrame.drop(\"Survived\",axis=1)\n",
    "y = dataFrame[\"Survived\"]"
   ]
  },
  {
   "cell_type": "code",
   "execution_count": 363,
   "id": "2b7a75f5",
   "metadata": {},
   "outputs": [
    {
     "name": "stdout",
     "output_type": "stream",
     "text": [
      "Fitting 100 folds for each of 29 candidates, totalling 2900 fits\n"
     ]
    },
    {
     "data": {
      "text/html": [
       "<style>#sk-container-id-8 {color: black;background-color: white;}#sk-container-id-8 pre{padding: 0;}#sk-container-id-8 div.sk-toggleable {background-color: white;}#sk-container-id-8 label.sk-toggleable__label {cursor: pointer;display: block;width: 100%;margin-bottom: 0;padding: 0.3em;box-sizing: border-box;text-align: center;}#sk-container-id-8 label.sk-toggleable__label-arrow:before {content: \"▸\";float: left;margin-right: 0.25em;color: #696969;}#sk-container-id-8 label.sk-toggleable__label-arrow:hover:before {color: black;}#sk-container-id-8 div.sk-estimator:hover label.sk-toggleable__label-arrow:before {color: black;}#sk-container-id-8 div.sk-toggleable__content {max-height: 0;max-width: 0;overflow: hidden;text-align: left;background-color: #f0f8ff;}#sk-container-id-8 div.sk-toggleable__content pre {margin: 0.2em;color: black;border-radius: 0.25em;background-color: #f0f8ff;}#sk-container-id-8 input.sk-toggleable__control:checked~div.sk-toggleable__content {max-height: 200px;max-width: 100%;overflow: auto;}#sk-container-id-8 input.sk-toggleable__control:checked~label.sk-toggleable__label-arrow:before {content: \"▾\";}#sk-container-id-8 div.sk-estimator input.sk-toggleable__control:checked~label.sk-toggleable__label {background-color: #d4ebff;}#sk-container-id-8 div.sk-label input.sk-toggleable__control:checked~label.sk-toggleable__label {background-color: #d4ebff;}#sk-container-id-8 input.sk-hidden--visually {border: 0;clip: rect(1px 1px 1px 1px);clip: rect(1px, 1px, 1px, 1px);height: 1px;margin: -1px;overflow: hidden;padding: 0;position: absolute;width: 1px;}#sk-container-id-8 div.sk-estimator {font-family: monospace;background-color: #f0f8ff;border: 1px dotted black;border-radius: 0.25em;box-sizing: border-box;margin-bottom: 0.5em;}#sk-container-id-8 div.sk-estimator:hover {background-color: #d4ebff;}#sk-container-id-8 div.sk-parallel-item::after {content: \"\";width: 100%;border-bottom: 1px solid gray;flex-grow: 1;}#sk-container-id-8 div.sk-label:hover label.sk-toggleable__label {background-color: #d4ebff;}#sk-container-id-8 div.sk-serial::before {content: \"\";position: absolute;border-left: 1px solid gray;box-sizing: border-box;top: 0;bottom: 0;left: 50%;z-index: 0;}#sk-container-id-8 div.sk-serial {display: flex;flex-direction: column;align-items: center;background-color: white;padding-right: 0.2em;padding-left: 0.2em;position: relative;}#sk-container-id-8 div.sk-item {position: relative;z-index: 1;}#sk-container-id-8 div.sk-parallel {display: flex;align-items: stretch;justify-content: center;background-color: white;position: relative;}#sk-container-id-8 div.sk-item::before, #sk-container-id-8 div.sk-parallel-item::before {content: \"\";position: absolute;border-left: 1px solid gray;box-sizing: border-box;top: 0;bottom: 0;left: 50%;z-index: -1;}#sk-container-id-8 div.sk-parallel-item {display: flex;flex-direction: column;z-index: 1;position: relative;background-color: white;}#sk-container-id-8 div.sk-parallel-item:first-child::after {align-self: flex-end;width: 50%;}#sk-container-id-8 div.sk-parallel-item:last-child::after {align-self: flex-start;width: 50%;}#sk-container-id-8 div.sk-parallel-item:only-child::after {width: 0;}#sk-container-id-8 div.sk-dashed-wrapped {border: 1px dashed gray;margin: 0 0.4em 0.5em 0.4em;box-sizing: border-box;padding-bottom: 0.4em;background-color: white;}#sk-container-id-8 div.sk-label label {font-family: monospace;font-weight: bold;display: inline-block;line-height: 1.2em;}#sk-container-id-8 div.sk-label-container {text-align: center;}#sk-container-id-8 div.sk-container {/* jupyter's `normalize.less` sets `[hidden] { display: none; }` but bootstrap.min.css set `[hidden] { display: none !important; }` so we also need the `!important` here to be able to override the default hidden behavior on the sphinx rendered scikit-learn.org. See: https://github.com/scikit-learn/scikit-learn/issues/21755 */display: inline-block !important;position: relative;}#sk-container-id-8 div.sk-text-repr-fallback {display: none;}</style><div id=\"sk-container-id-8\" class=\"sk-top-container\"><div class=\"sk-text-repr-fallback\"><pre>GridSearchCV(cv=100, estimator=GradientBoostingClassifier(), n_jobs=-1,\n",
       "             param_grid=[{&#x27;n_estimators&#x27;: [100, 200, 300, 400]},\n",
       "                         {&#x27;learning_rate&#x27;: [0.1, 0.3, 0.5, 0.7, 0.9, 1.1, 1.3,\n",
       "                                            1.5, 1.7, 2.0]},\n",
       "                         {&#x27;max_depth&#x27;: [1, 2, 3, 4, 5, 6, 7, 8, 9, 10]},\n",
       "                         {&#x27;max_features&#x27;: [0.3, 0.2, 0.1]},\n",
       "                         {&#x27;max_depth&#x27;: [4, 8]}],\n",
       "             verbose=1)</pre><b>In a Jupyter environment, please rerun this cell to show the HTML representation or trust the notebook. <br />On GitHub, the HTML representation is unable to render, please try loading this page with nbviewer.org.</b></div><div class=\"sk-container\" hidden><div class=\"sk-item sk-dashed-wrapped\"><div class=\"sk-label-container\"><div class=\"sk-label sk-toggleable\"><input class=\"sk-toggleable__control sk-hidden--visually\" id=\"sk-estimator-id-20\" type=\"checkbox\" ><label for=\"sk-estimator-id-20\" class=\"sk-toggleable__label sk-toggleable__label-arrow\">GridSearchCV</label><div class=\"sk-toggleable__content\"><pre>GridSearchCV(cv=100, estimator=GradientBoostingClassifier(), n_jobs=-1,\n",
       "             param_grid=[{&#x27;n_estimators&#x27;: [100, 200, 300, 400]},\n",
       "                         {&#x27;learning_rate&#x27;: [0.1, 0.3, 0.5, 0.7, 0.9, 1.1, 1.3,\n",
       "                                            1.5, 1.7, 2.0]},\n",
       "                         {&#x27;max_depth&#x27;: [1, 2, 3, 4, 5, 6, 7, 8, 9, 10]},\n",
       "                         {&#x27;max_features&#x27;: [0.3, 0.2, 0.1]},\n",
       "                         {&#x27;max_depth&#x27;: [4, 8]}],\n",
       "             verbose=1)</pre></div></div></div><div class=\"sk-parallel\"><div class=\"sk-parallel-item\"><div class=\"sk-item\"><div class=\"sk-label-container\"><div class=\"sk-label sk-toggleable\"><input class=\"sk-toggleable__control sk-hidden--visually\" id=\"sk-estimator-id-21\" type=\"checkbox\" ><label for=\"sk-estimator-id-21\" class=\"sk-toggleable__label sk-toggleable__label-arrow\">estimator: GradientBoostingClassifier</label><div class=\"sk-toggleable__content\"><pre>GradientBoostingClassifier()</pre></div></div></div><div class=\"sk-serial\"><div class=\"sk-item\"><div class=\"sk-estimator sk-toggleable\"><input class=\"sk-toggleable__control sk-hidden--visually\" id=\"sk-estimator-id-22\" type=\"checkbox\" ><label for=\"sk-estimator-id-22\" class=\"sk-toggleable__label sk-toggleable__label-arrow\">GradientBoostingClassifier</label><div class=\"sk-toggleable__content\"><pre>GradientBoostingClassifier()</pre></div></div></div></div></div></div></div></div></div></div>"
      ],
      "text/plain": [
       "GridSearchCV(cv=100, estimator=GradientBoostingClassifier(), n_jobs=-1,\n",
       "             param_grid=[{'n_estimators': [100, 200, 300, 400]},\n",
       "                         {'learning_rate': [0.1, 0.3, 0.5, 0.7, 0.9, 1.1, 1.3,\n",
       "                                            1.5, 1.7, 2.0]},\n",
       "                         {'max_depth': [1, 2, 3, 4, 5, 6, 7, 8, 9, 10]},\n",
       "                         {'max_features': [0.3, 0.2, 0.1]},\n",
       "                         {'max_depth': [4, 8]}],\n",
       "             verbose=1)"
      ]
     },
     "execution_count": 363,
     "metadata": {},
     "output_type": "execute_result"
    }
   ],
   "source": [
    "from sklearn.ensemble import GradientBoostingClassifier\n",
    "\n",
    "from sklearn.model_selection import GridSearchCV\n",
    "\n",
    "parameters = [{\"n_estimators\":[100,200,300,400]},\n",
    "             {\"learning_rate\":[0.1,0.3,0.5,0.7,0.9,1.1,1.3,1.5,1.7,2.0]},\n",
    "             {\"max_depth\":[1,2,3,4,5,6,7,8,9,10]},\n",
    "              {'max_features': [0.3, 0.2,0.1]},\n",
    "              {'max_depth': [4, 8]}]\n",
    "gscv = GridSearchCV(GradientBoostingClassifier(),parameters,verbose=1,n_jobs=-1,cv=100)\n",
    "gscv.fit(X,y)"
   ]
  },
  {
   "cell_type": "code",
   "execution_count": 364,
   "id": "f9d53697",
   "metadata": {},
   "outputs": [
    {
     "name": "stdout",
     "output_type": "stream",
     "text": [
      "0.82875\n",
      "{'max_features': 0.1}\n"
     ]
    }
   ],
   "source": [
    "print(gscv.best_score_)\n",
    "print(gscv.best_params_)"
   ]
  },
  {
   "cell_type": "code",
   "execution_count": 365,
   "id": "6f74dfdb",
   "metadata": {},
   "outputs": [],
   "source": [
    "model = GradientBoostingClassifier(max_features=0.1)"
   ]
  },
  {
   "cell_type": "code",
   "execution_count": 366,
   "id": "699dba90",
   "metadata": {},
   "outputs": [
    {
     "data": {
      "text/html": [
       "<style>#sk-container-id-9 {color: black;background-color: white;}#sk-container-id-9 pre{padding: 0;}#sk-container-id-9 div.sk-toggleable {background-color: white;}#sk-container-id-9 label.sk-toggleable__label {cursor: pointer;display: block;width: 100%;margin-bottom: 0;padding: 0.3em;box-sizing: border-box;text-align: center;}#sk-container-id-9 label.sk-toggleable__label-arrow:before {content: \"▸\";float: left;margin-right: 0.25em;color: #696969;}#sk-container-id-9 label.sk-toggleable__label-arrow:hover:before {color: black;}#sk-container-id-9 div.sk-estimator:hover label.sk-toggleable__label-arrow:before {color: black;}#sk-container-id-9 div.sk-toggleable__content {max-height: 0;max-width: 0;overflow: hidden;text-align: left;background-color: #f0f8ff;}#sk-container-id-9 div.sk-toggleable__content pre {margin: 0.2em;color: black;border-radius: 0.25em;background-color: #f0f8ff;}#sk-container-id-9 input.sk-toggleable__control:checked~div.sk-toggleable__content {max-height: 200px;max-width: 100%;overflow: auto;}#sk-container-id-9 input.sk-toggleable__control:checked~label.sk-toggleable__label-arrow:before {content: \"▾\";}#sk-container-id-9 div.sk-estimator input.sk-toggleable__control:checked~label.sk-toggleable__label {background-color: #d4ebff;}#sk-container-id-9 div.sk-label input.sk-toggleable__control:checked~label.sk-toggleable__label {background-color: #d4ebff;}#sk-container-id-9 input.sk-hidden--visually {border: 0;clip: rect(1px 1px 1px 1px);clip: rect(1px, 1px, 1px, 1px);height: 1px;margin: -1px;overflow: hidden;padding: 0;position: absolute;width: 1px;}#sk-container-id-9 div.sk-estimator {font-family: monospace;background-color: #f0f8ff;border: 1px dotted black;border-radius: 0.25em;box-sizing: border-box;margin-bottom: 0.5em;}#sk-container-id-9 div.sk-estimator:hover {background-color: #d4ebff;}#sk-container-id-9 div.sk-parallel-item::after {content: \"\";width: 100%;border-bottom: 1px solid gray;flex-grow: 1;}#sk-container-id-9 div.sk-label:hover label.sk-toggleable__label {background-color: #d4ebff;}#sk-container-id-9 div.sk-serial::before {content: \"\";position: absolute;border-left: 1px solid gray;box-sizing: border-box;top: 0;bottom: 0;left: 50%;z-index: 0;}#sk-container-id-9 div.sk-serial {display: flex;flex-direction: column;align-items: center;background-color: white;padding-right: 0.2em;padding-left: 0.2em;position: relative;}#sk-container-id-9 div.sk-item {position: relative;z-index: 1;}#sk-container-id-9 div.sk-parallel {display: flex;align-items: stretch;justify-content: center;background-color: white;position: relative;}#sk-container-id-9 div.sk-item::before, #sk-container-id-9 div.sk-parallel-item::before {content: \"\";position: absolute;border-left: 1px solid gray;box-sizing: border-box;top: 0;bottom: 0;left: 50%;z-index: -1;}#sk-container-id-9 div.sk-parallel-item {display: flex;flex-direction: column;z-index: 1;position: relative;background-color: white;}#sk-container-id-9 div.sk-parallel-item:first-child::after {align-self: flex-end;width: 50%;}#sk-container-id-9 div.sk-parallel-item:last-child::after {align-self: flex-start;width: 50%;}#sk-container-id-9 div.sk-parallel-item:only-child::after {width: 0;}#sk-container-id-9 div.sk-dashed-wrapped {border: 1px dashed gray;margin: 0 0.4em 0.5em 0.4em;box-sizing: border-box;padding-bottom: 0.4em;background-color: white;}#sk-container-id-9 div.sk-label label {font-family: monospace;font-weight: bold;display: inline-block;line-height: 1.2em;}#sk-container-id-9 div.sk-label-container {text-align: center;}#sk-container-id-9 div.sk-container {/* jupyter's `normalize.less` sets `[hidden] { display: none; }` but bootstrap.min.css set `[hidden] { display: none !important; }` so we also need the `!important` here to be able to override the default hidden behavior on the sphinx rendered scikit-learn.org. See: https://github.com/scikit-learn/scikit-learn/issues/21755 */display: inline-block !important;position: relative;}#sk-container-id-9 div.sk-text-repr-fallback {display: none;}</style><div id=\"sk-container-id-9\" class=\"sk-top-container\"><div class=\"sk-text-repr-fallback\"><pre>GradientBoostingClassifier(max_features=0.1)</pre><b>In a Jupyter environment, please rerun this cell to show the HTML representation or trust the notebook. <br />On GitHub, the HTML representation is unable to render, please try loading this page with nbviewer.org.</b></div><div class=\"sk-container\" hidden><div class=\"sk-item\"><div class=\"sk-estimator sk-toggleable\"><input class=\"sk-toggleable__control sk-hidden--visually\" id=\"sk-estimator-id-23\" type=\"checkbox\" checked><label for=\"sk-estimator-id-23\" class=\"sk-toggleable__label sk-toggleable__label-arrow\">GradientBoostingClassifier</label><div class=\"sk-toggleable__content\"><pre>GradientBoostingClassifier(max_features=0.1)</pre></div></div></div></div></div>"
      ],
      "text/plain": [
       "GradientBoostingClassifier(max_features=0.1)"
      ]
     },
     "execution_count": 366,
     "metadata": {},
     "output_type": "execute_result"
    }
   ],
   "source": [
    "model.fit(X,y)"
   ]
  },
  {
   "cell_type": "code",
   "execution_count": 367,
   "id": "2d8e3d2c",
   "metadata": {},
   "outputs": [],
   "source": [
    "import pickle\n",
    "pickle.dump(model,open(\"model1\", 'wb'))"
   ]
  },
  {
   "cell_type": "code",
   "execution_count": 371,
   "id": "3f0b44df",
   "metadata": {},
   "outputs": [],
   "source": [
    "dataFrame = pd.read_csv(\"./test.csv\")"
   ]
  },
  {
   "cell_type": "code",
   "execution_count": 372,
   "id": "11814ecf",
   "metadata": {},
   "outputs": [
    {
     "name": "stdout",
     "output_type": "stream",
     "text": [
      "<class 'pandas.core.frame.DataFrame'>\n",
      "RangeIndex: 418 entries, 0 to 417\n",
      "Data columns (total 11 columns):\n",
      " #   Column       Non-Null Count  Dtype  \n",
      "---  ------       --------------  -----  \n",
      " 0   PassengerId  418 non-null    int64  \n",
      " 1   Pclass       418 non-null    int64  \n",
      " 2   Name         418 non-null    object \n",
      " 3   Sex          418 non-null    object \n",
      " 4   Age          332 non-null    float64\n",
      " 5   SibSp        418 non-null    int64  \n",
      " 6   Parch        418 non-null    int64  \n",
      " 7   Ticket       418 non-null    object \n",
      " 8   Fare         417 non-null    float64\n",
      " 9   Cabin        91 non-null     object \n",
      " 10  Embarked     418 non-null    object \n",
      "dtypes: float64(2), int64(4), object(5)\n",
      "memory usage: 36.0+ KB\n"
     ]
    }
   ],
   "source": [
    "dataFrame.info()"
   ]
  },
  {
   "cell_type": "code",
   "execution_count": 373,
   "id": "ef3cebe0",
   "metadata": {},
   "outputs": [],
   "source": [
    "# Dropping Cabin Column\n",
    "dataFrame = dataFrame.drop(\"Cabin\",axis=1)"
   ]
  },
  {
   "cell_type": "code",
   "execution_count": 374,
   "id": "bf4f3c28",
   "metadata": {},
   "outputs": [],
   "source": [
    "dataFrame = combine_parch_sibsp(dataFrame,dataFrame.Parch,dataFrame.SibSp)"
   ]
  },
  {
   "cell_type": "code",
   "execution_count": 375,
   "id": "b0e46f21",
   "metadata": {},
   "outputs": [],
   "source": [
    "dataFrame = age_to_category(dataFrame,dataFrame.Age)"
   ]
  },
  {
   "cell_type": "code",
   "execution_count": 376,
   "id": "e3d7d404",
   "metadata": {},
   "outputs": [],
   "source": [
    "dataFrame = fare_to_category(dataFrame,dataFrame.Fare)"
   ]
  },
  {
   "cell_type": "code",
   "execution_count": 377,
   "id": "29810640",
   "metadata": {},
   "outputs": [],
   "source": [
    "# The following data is to be label encoded\n",
    "dataFrame = pd.get_dummies(dataFrame,columns=[\"Sex\",\"Embarked\",\"AGE\",\"FARE\"])"
   ]
  },
  {
   "cell_type": "code",
   "execution_count": 378,
   "id": "38d5f6ce",
   "metadata": {},
   "outputs": [
    {
     "name": "stdout",
     "output_type": "stream",
     "text": [
      "<class 'pandas.core.frame.DataFrame'>\n",
      "RangeIndex: 418 entries, 0 to 417\n",
      "Data columns (total 28 columns):\n",
      " #   Column         Non-Null Count  Dtype \n",
      "---  ------         --------------  ----- \n",
      " 0   PassengerId    418 non-null    int64 \n",
      " 1   Pclass         418 non-null    int64 \n",
      " 2   Name           418 non-null    object\n",
      " 3   SibSp          418 non-null    int64 \n",
      " 4   Parch          418 non-null    int64 \n",
      " 5   Ticket         418 non-null    object\n",
      " 6   total_members  418 non-null    int64 \n",
      " 7   Sex_female     418 non-null    uint8 \n",
      " 8   Sex_male       418 non-null    uint8 \n",
      " 9   Embarked_C     418 non-null    uint8 \n",
      " 10  Embarked_Q     418 non-null    uint8 \n",
      " 11  Embarked_S     418 non-null    uint8 \n",
      " 12  AGE_Young      418 non-null    uint8 \n",
      " 13  AGE_Student    418 non-null    uint8 \n",
      " 14  AGE_Teenage    418 non-null    uint8 \n",
      " 15  AGE_Adult      418 non-null    uint8 \n",
      " 16  AGE_Senior     418 non-null    uint8 \n",
      " 17  AGE_Old        418 non-null    uint8 \n",
      " 18  FARE_F1        418 non-null    uint8 \n",
      " 19  FARE_F2        418 non-null    uint8 \n",
      " 20  FARE_F3        418 non-null    uint8 \n",
      " 21  FARE_F4        418 non-null    uint8 \n",
      " 22  FARE_F5        418 non-null    uint8 \n",
      " 23  FARE_F6        418 non-null    uint8 \n",
      " 24  FARE_F7        418 non-null    uint8 \n",
      " 25  FARE_F8        418 non-null    uint8 \n",
      " 26  FARE_F9        418 non-null    uint8 \n",
      " 27  FARE_F10       418 non-null    uint8 \n",
      "dtypes: int64(5), object(2), uint8(21)\n",
      "memory usage: 31.6+ KB\n",
      "None\n"
     ]
    }
   ],
   "source": [
    "get_data_info(dataFrame)"
   ]
  },
  {
   "cell_type": "code",
   "execution_count": 379,
   "id": "a3f2a127",
   "metadata": {},
   "outputs": [],
   "source": [
    "model = pickle.load(open(\"./model1\" , 'rb'))"
   ]
  },
  {
   "cell_type": "code",
   "execution_count": 384,
   "id": "d9271d3b",
   "metadata": {},
   "outputs": [],
   "source": [
    "predict_params = dataFrame.drop([\"PassengerId\",\"Ticket\",\"Name\"],axis=1)"
   ]
  },
  {
   "cell_type": "code",
   "execution_count": 385,
   "id": "51dd3a39",
   "metadata": {},
   "outputs": [
    {
     "name": "stdout",
     "output_type": "stream",
     "text": [
      "<class 'pandas.core.frame.DataFrame'>\n",
      "RangeIndex: 418 entries, 0 to 417\n",
      "Data columns (total 25 columns):\n",
      " #   Column         Non-Null Count  Dtype\n",
      "---  ------         --------------  -----\n",
      " 0   Pclass         418 non-null    int64\n",
      " 1   SibSp          418 non-null    int64\n",
      " 2   Parch          418 non-null    int64\n",
      " 3   total_members  418 non-null    int64\n",
      " 4   Sex_female     418 non-null    uint8\n",
      " 5   Sex_male       418 non-null    uint8\n",
      " 6   Embarked_C     418 non-null    uint8\n",
      " 7   Embarked_Q     418 non-null    uint8\n",
      " 8   Embarked_S     418 non-null    uint8\n",
      " 9   AGE_Young      418 non-null    uint8\n",
      " 10  AGE_Student    418 non-null    uint8\n",
      " 11  AGE_Teenage    418 non-null    uint8\n",
      " 12  AGE_Adult      418 non-null    uint8\n",
      " 13  AGE_Senior     418 non-null    uint8\n",
      " 14  AGE_Old        418 non-null    uint8\n",
      " 15  FARE_F1        418 non-null    uint8\n",
      " 16  FARE_F2        418 non-null    uint8\n",
      " 17  FARE_F3        418 non-null    uint8\n",
      " 18  FARE_F4        418 non-null    uint8\n",
      " 19  FARE_F5        418 non-null    uint8\n",
      " 20  FARE_F6        418 non-null    uint8\n",
      " 21  FARE_F7        418 non-null    uint8\n",
      " 22  FARE_F8        418 non-null    uint8\n",
      " 23  FARE_F9        418 non-null    uint8\n",
      " 24  FARE_F10       418 non-null    uint8\n",
      "dtypes: int64(4), uint8(21)\n",
      "memory usage: 21.8 KB\n",
      "None\n"
     ]
    }
   ],
   "source": [
    "get_data_info(predict_params)"
   ]
  },
  {
   "cell_type": "code",
   "execution_count": 386,
   "id": "0eac774e",
   "metadata": {},
   "outputs": [],
   "source": [
    "predicted_values = model.predict(predict_params)"
   ]
  },
  {
   "cell_type": "code",
   "execution_count": 387,
   "id": "cf586ac4",
   "metadata": {},
   "outputs": [
    {
     "name": "stdout",
     "output_type": "stream",
     "text": [
      "[0 0 0 0 1 0 1 0 1 0 0 0 1 0 1 1 0 0 1 1 0 1 1 1 1 0 1 0 0 0 0 0 1 1 1 0 1\n",
      " 1 0 0 0 0 0 1 1 0 0 0 1 1 0 0 1 1 0 0 0 0 0 1 0 0 0 1 1 1 1 0 0 1 1 0 1 0\n",
      " 1 0 0 1 0 1 1 0 0 0 0 0 1 1 1 1 1 0 1 0 0 0 1 0 1 0 1 0 0 0 1 0 0 0 0 0 0\n",
      " 1 1 1 1 0 0 1 1 1 1 0 1 0 0 1 0 1 0 0 0 0 0 0 0 0 0 0 1 0 0 1 0 0 0 0 0 0\n",
      " 0 0 1 0 0 1 0 0 1 1 0 1 1 1 1 0 0 1 0 0 1 1 0 0 0 0 0 1 1 0 1 1 0 1 1 0 1\n",
      " 0 1 0 0 0 0 0 1 0 1 0 1 1 0 1 1 1 0 1 0 0 1 0 1 0 0 0 0 1 0 0 1 0 1 0 1 0\n",
      " 1 0 1 1 0 1 0 0 0 1 0 0 1 0 0 0 1 1 1 1 0 0 0 0 1 0 1 1 1 0 1 0 0 0 0 0 1\n",
      " 0 0 0 1 1 0 0 0 0 1 0 0 0 1 1 0 1 0 0 0 0 1 1 1 1 1 0 0 0 0 0 0 1 0 0 0 0\n",
      " 1 0 0 0 0 0 0 0 1 1 0 1 0 0 0 0 0 1 1 1 0 0 0 0 0 0 0 0 1 0 1 0 0 0 1 0 0\n",
      " 1 0 0 0 0 0 0 0 0 0 1 0 1 0 1 0 1 1 0 0 0 1 0 1 0 0 1 0 1 1 0 1 1 0 1 1 0\n",
      " 0 1 0 0 1 1 1 0 0 0 0 0 1 1 0 1 0 0 0 0 0 1 1 0 0 1 0 1 0 0 1 0 1 0 0 0 0\n",
      " 0 1 1 1 1 1 0 1 0 0 0]\n"
     ]
    }
   ],
   "source": [
    "print(predicted_values)"
   ]
  },
  {
   "cell_type": "code",
   "execution_count": 389,
   "id": "1274c5aa",
   "metadata": {},
   "outputs": [],
   "source": [
    "survived_data = pd.DataFrame(predicted_values,columns=[\"Survived\"])\n",
    "passender_id = pd.DataFrame(dataFrame[\"PassengerId\"],columns=[\"PassengerId\"]) \n",
    "passender_id[\"Survived\"] = survived_data\n",
    "passender_id.to_csv(\"submission_file_2.csv\",index=False)"
   ]
  },
  {
   "cell_type": "code",
   "execution_count": null,
   "id": "121a0f59",
   "metadata": {},
   "outputs": [],
   "source": []
  }
 ],
 "metadata": {
  "kernelspec": {
   "display_name": "Python 3 (ipykernel)",
   "language": "python",
   "name": "python3"
  },
  "language_info": {
   "codemirror_mode": {
    "name": "ipython",
    "version": 3
   },
   "file_extension": ".py",
   "mimetype": "text/x-python",
   "name": "python",
   "nbconvert_exporter": "python",
   "pygments_lexer": "ipython3",
   "version": "3.9.13"
  },
  "vscode": {
   "interpreter": {
    "hash": "5c7b89af1651d0b8571dde13640ecdccf7d5a6204171d6ab33e7c296e100e08a"
   }
  }
 },
 "nbformat": 4,
 "nbformat_minor": 5
}
